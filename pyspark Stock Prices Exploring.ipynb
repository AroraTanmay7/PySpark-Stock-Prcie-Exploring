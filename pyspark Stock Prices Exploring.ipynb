{
 "cells": [
  {
   "cell_type": "markdown",
   "metadata": {},
   "source": [
    "# Exploring Stock Prices Using Spark SQL"
   ]
  },
  {
   "cell_type": "markdown",
   "metadata": {},
   "source": [
    "<img src=\"stock-market.png\" width = '800' height = '400' />"
   ]
  },
  {
   "cell_type": "markdown",
   "metadata": {},
   "source": [
    "# Introduction\n",
    "\n",
    "In this project, distributed programming using Spark and derive knowledge from data will be implemented. Load data for analysis, and explore it by using Spark RDD, Spark DataFrames. Explore and perform statistical analysis on Stock prices datasets using Apache Spark SQL and Spark DataFrame API. Lastly, create parquet tables and store their results in them."
   ]
  },
  {
   "cell_type": "markdown",
   "metadata": {},
   "source": [
    "# Spark Application And Spark Context"
   ]
  },
  {
   "cell_type": "markdown",
   "metadata": {},
   "source": [
    "<img src=\"spark1.png\" width = '800' height = '400' />"
   ]
  },
  {
   "cell_type": "code",
   "execution_count": null,
   "metadata": {},
   "outputs": [],
   "source": [
    "# Import library\n",
    "from pyspark import SparkContext\n",
    "\n",
    "# Create shorcut term\n",
    "sc = SparkContext.getOrCreate()"
   ]
  },
  {
   "cell_type": "code",
   "execution_count": 0,
   "metadata": {
    "application/vnd.databricks.v1+cell": {
     "inputWidgets": {},
     "nuid": "88266e46-9298-430a-a767-1b47715684df",
     "showTitle": false,
     "title": ""
    }
   },
   "outputs": [
    {
     "data": {
      "text/html": [
       "<style scoped>\n",
       "  .ansiout {\n",
       "    display: block;\n",
       "    unicode-bidi: embed;\n",
       "    white-space: pre-wrap;\n",
       "    word-wrap: break-word;\n",
       "    word-break: break-all;\n",
       "    font-family: \"Source Code Pro\", \"Menlo\", monospace;;\n",
       "    font-size: 13px;\n",
       "    color: #555;\n",
       "    margin-left: 4px;\n",
       "    line-height: 19px;\n",
       "  }\n",
       "</style>\n",
       "<div class=\"ansiout\">Out[58]: PythonShellImpl.RemoteContext</div>"
      ]
     },
     "metadata": {
      "application/vnd.databricks.v1+output": {
       "addedWidgets": {},
       "arguments": {},
       "data": "<div class=\"ansiout\">Out[58]: PythonShellImpl.RemoteContext</div>",
       "datasetInfos": [],
       "removedWidgets": [],
       "type": "html"
      }
     },
     "output_type": "display_data"
    }
   ],
   "source": [
    "# Check type\n",
    "type(sc)"
   ]
  },
  {
   "cell_type": "markdown",
   "metadata": {},
   "source": [
    "# Load data into spark"
   ]
  },
  {
   "cell_type": "markdown",
   "metadata": {},
   "source": [
    "<img src=\"spark2.png\" width = '800' height = '400' />"
   ]
  },
  {
   "cell_type": "code",
   "execution_count": 0,
   "metadata": {
    "application/vnd.databricks.v1+cell": {
     "inputWidgets": {},
     "nuid": "7baaf482-198d-4467-b329-516ab07b82c9",
     "showTitle": false,
     "title": ""
    }
   },
   "outputs": [
    {
     "data": {
      "text/html": [
       "<style scoped>\n",
       "  .ansiout {\n",
       "    display: block;\n",
       "    unicode-bidi: embed;\n",
       "    white-space: pre-wrap;\n",
       "    word-wrap: break-word;\n",
       "    word-break: break-all;\n",
       "    font-family: \"Source Code Pro\", \"Menlo\", monospace;;\n",
       "    font-size: 13px;\n",
       "    color: #555;\n",
       "    margin-left: 4px;\n",
       "    line-height: 19px;\n",
       "  }\n",
       "</style>\n",
       "<div class=\"ansiout\"></div>"
      ]
     },
     "metadata": {
      "application/vnd.databricks.v1+output": {
       "addedWidgets": {},
       "arguments": {},
       "data": "<div class=\"ansiout\"></div>",
       "datasetInfos": [],
       "removedWidgets": [],
       "type": "html"
      }
     },
     "output_type": "display_data"
    }
   ],
   "source": [
    "# Define collections of numbers\n",
    "data = [1, 2, 3, 4, 5]\n",
    "\n",
    "# Parallel RDD\n",
    "distData = sc.parallelize(data)"
   ]
  },
  {
   "cell_type": "code",
   "execution_count": 0,
   "metadata": {
    "application/vnd.databricks.v1+cell": {
     "inputWidgets": {},
     "nuid": "a311bebe-c78d-49e5-97ac-320b8d9b7799",
     "showTitle": false,
     "title": ""
    }
   },
   "outputs": [
    {
     "data": {
      "text/html": [
       "<style scoped>\n",
       "  .ansiout {\n",
       "    display: block;\n",
       "    unicode-bidi: embed;\n",
       "    white-space: pre-wrap;\n",
       "    word-wrap: break-word;\n",
       "    word-break: break-all;\n",
       "    font-family: \"Source Code Pro\", \"Menlo\", monospace;;\n",
       "    font-size: 13px;\n",
       "    color: #555;\n",
       "    margin-left: 4px;\n",
       "    line-height: 19px;\n",
       "  }\n",
       "</style>\n",
       "<div class=\"ansiout\"></div>"
      ]
     },
     "metadata": {
      "application/vnd.databricks.v1+output": {
       "addedWidgets": {},
       "arguments": {},
       "data": "<div class=\"ansiout\"></div>",
       "datasetInfos": [],
       "removedWidgets": [],
       "type": "html"
      }
     },
     "output_type": "display_data"
    }
   ],
   "source": [
    "\n",
    "\n",
    "# Import library\n",
    "from pyspark.sql import SQLContext\n",
    "\n",
    "# label SQL Context\n",
    "sqlContext = SQLContext(sc)\n",
    "\n"
   ]
  },
  {
   "cell_type": "code",
   "execution_count": 0,
   "metadata": {
    "application/vnd.databricks.v1+cell": {
     "inputWidgets": {},
     "nuid": "9724a290-465e-4ceb-8443-0cd1e3f717c7",
     "showTitle": false,
     "title": ""
    }
   },
   "outputs": [
    {
     "data": {
      "text/html": [
       "<style scoped>\n",
       "  .ansiout {\n",
       "    display: block;\n",
       "    unicode-bidi: embed;\n",
       "    white-space: pre-wrap;\n",
       "    word-wrap: break-word;\n",
       "    word-break: break-all;\n",
       "    font-family: \"Source Code Pro\", \"Menlo\", monospace;;\n",
       "    font-size: 13px;\n",
       "    color: #555;\n",
       "    margin-left: 4px;\n",
       "    line-height: 19px;\n",
       "  }\n",
       "</style>\n",
       "<div class=\"ansiout\">Out[9]: [Row(name=&#39;Alice&#39;, age=1)]</div>"
      ]
     },
     "metadata": {
      "application/vnd.databricks.v1+output": {
       "addedWidgets": {},
       "arguments": {},
       "data": "<div class=\"ansiout\">Out[9]: [Row(name=&#39;Alice&#39;, age=1)]</div>",
       "datasetInfos": [],
       "removedWidgets": [],
       "type": "html"
      }
     },
     "output_type": "display_data"
    }
   ],
   "source": [
    "# Create list\n",
    "l = [('Alice', 1)]\n",
    "\n",
    "# Create dataframe\n",
    "df = sqlContext.createDataFrame(l, ['name', 'age'])\n",
    "\n",
    "# Show data\n",
    "df.collect()"
   ]
  },
  {
   "cell_type": "code",
   "execution_count": 0,
   "metadata": {
    "application/vnd.databricks.v1+cell": {
     "inputWidgets": {},
     "nuid": "514f2e1f-9b9d-4d59-a214-430eb0ce23a6",
     "showTitle": false,
     "title": ""
    }
   },
   "outputs": [
    {
     "data": {
      "text/html": [
       "<style scoped>\n",
       "  .ansiout {\n",
       "    display: block;\n",
       "    unicode-bidi: embed;\n",
       "    white-space: pre-wrap;\n",
       "    word-wrap: break-word;\n",
       "    word-break: break-all;\n",
       "    font-family: \"Source Code Pro\", \"Menlo\", monospace;;\n",
       "    font-size: 13px;\n",
       "    color: #555;\n",
       "    margin-left: 4px;\n",
       "    line-height: 19px;\n",
       "  }\n",
       "</style>\n",
       "<div class=\"ansiout\">Out[15]: [&#39;Date,Open,High,Low,Close,AdjClose,Volume&#39;,\n",
       " &#39;2019-07-15,248.000000,254.419998,244.860001,253.500000,253.500000,11000100&#39;,\n",
       " &#39;2019-07-16,249.300003,253.529999,247.929993,252.380005,252.380005,8149000&#39;,\n",
       " &#39;2019-07-17,255.669998,258.309998,253.350006,254.860001,254.860001,9764700&#39;,\n",
       " &#39;2019-07-18,255.050003,255.750000,251.889999,253.539993,253.539993,4764500&#39;]</div>"
      ]
     },
     "metadata": {
      "application/vnd.databricks.v1+output": {
       "addedWidgets": {},
       "arguments": {},
       "data": "<div class=\"ansiout\">Out[15]: [&#39;Date,Open,High,Low,Close,AdjClose,Volume&#39;,\n &#39;2019-07-15,248.000000,254.419998,244.860001,253.500000,253.500000,11000100&#39;,\n &#39;2019-07-16,249.300003,253.529999,247.929993,252.380005,252.380005,8149000&#39;,\n &#39;2019-07-17,255.669998,258.309998,253.350006,254.860001,254.860001,9764700&#39;,\n &#39;2019-07-18,255.050003,255.750000,251.889999,253.539993,253.539993,4764500&#39;]</div>",
       "datasetInfos": [],
       "removedWidgets": [],
       "type": "html"
      }
     },
     "output_type": "display_data"
    }
   ],
   "source": [
    "# Label data\n",
    "data_file = '/FileStore/tables/TSLA.csv'\n",
    "\n",
    "# Read the csv\n",
    "raw_rdd = sc.textFile(data_file).cache()\n",
    "\n",
    "# Return the five element in the data\n",
    "raw_rdd.take(5)"
   ]
  },
  {
   "cell_type": "code",
   "execution_count": 0,
   "metadata": {
    "application/vnd.databricks.v1+cell": {
     "inputWidgets": {},
     "nuid": "5cbcaadf-8559-463f-833f-0806d4715acf",
     "showTitle": false,
     "title": ""
    }
   },
   "outputs": [
    {
     "data": {
      "text/html": [
       "<style scoped>\n",
       "  .ansiout {\n",
       "    display: block;\n",
       "    unicode-bidi: embed;\n",
       "    white-space: pre-wrap;\n",
       "    word-wrap: break-word;\n",
       "    word-break: break-all;\n",
       "    font-family: \"Source Code Pro\", \"Menlo\", monospace;;\n",
       "    font-size: 13px;\n",
       "    color: #555;\n",
       "    margin-left: 4px;\n",
       "    line-height: 19px;\n",
       "  }\n",
       "</style>\n",
       "<div class=\"ansiout\">Out[16]: pyspark.rdd.RDD</div>"
      ]
     },
     "metadata": {
      "application/vnd.databricks.v1+output": {
       "addedWidgets": {},
       "arguments": {},
       "data": "<div class=\"ansiout\">Out[16]: pyspark.rdd.RDD</div>",
       "datasetInfos": [],
       "removedWidgets": [],
       "type": "html"
      }
     },
     "output_type": "display_data"
    }
   ],
   "source": [
    "# Check type\n",
    "type(raw_rdd)"
   ]
  },
  {
   "cell_type": "code",
   "execution_count": 0,
   "metadata": {
    "application/vnd.databricks.v1+cell": {
     "inputWidgets": {},
     "nuid": "9d65d78b-c372-440a-b875-1b54eb62f053",
     "showTitle": false,
     "title": ""
    }
   },
   "outputs": [
    {
     "data": {
      "text/html": [
       "<style scoped>\n",
       "  .ansiout {\n",
       "    display: block;\n",
       "    unicode-bidi: embed;\n",
       "    white-space: pre-wrap;\n",
       "    word-wrap: break-word;\n",
       "    word-break: break-all;\n",
       "    font-family: \"Source Code Pro\", \"Menlo\", monospace;;\n",
       "    font-size: 13px;\n",
       "    color: #555;\n",
       "    margin-left: 4px;\n",
       "    line-height: 19px;\n",
       "  }\n",
       "</style>\n",
       "<div class=\"ansiout\">[[&#39;Date&#39;, &#39;Open&#39;, &#39;High&#39;, &#39;Low&#39;, &#39;Close&#39;, &#39;AdjClose&#39;, &#39;Volume&#39;], [&#39;2019-07-15&#39;, &#39;248.000000&#39;, &#39;254.419998&#39;, &#39;244.860001&#39;, &#39;253.500000&#39;, &#39;253.500000&#39;, &#39;11000100&#39;]]\n",
       "&lt;class &#39;pyspark.rdd.PipelinedRDD&#39;&gt;\n",
       "</div>"
      ]
     },
     "metadata": {
      "application/vnd.databricks.v1+output": {
       "addedWidgets": {},
       "arguments": {},
       "data": "<div class=\"ansiout\">[[&#39;Date&#39;, &#39;Open&#39;, &#39;High&#39;, &#39;Low&#39;, &#39;Close&#39;, &#39;AdjClose&#39;, &#39;Volume&#39;], [&#39;2019-07-15&#39;, &#39;248.000000&#39;, &#39;254.419998&#39;, &#39;244.860001&#39;, &#39;253.500000&#39;, &#39;253.500000&#39;, &#39;11000100&#39;]]\n&lt;class &#39;pyspark.rdd.PipelinedRDD&#39;&gt;\n</div>",
       "datasetInfos": [],
       "removedWidgets": [],
       "type": "html"
      }
     },
     "output_type": "display_data"
    }
   ],
   "source": [
    "# Apply map transformation\n",
    "csv_rdd = raw_rdd.map(lambda row: row.split(\",\"))\n",
    "\n",
    "# Show data\n",
    "print(csv_rdd.take(2))\n",
    "\n",
    "# Check data type\n",
    "print(type(csv_rdd))"
   ]
  },
  {
   "cell_type": "code",
   "execution_count": 0,
   "metadata": {
    "application/vnd.databricks.v1+cell": {
     "inputWidgets": {},
     "nuid": "0bed6855-a34a-4b16-93a8-407fb77937e5",
     "showTitle": false,
     "title": ""
    }
   },
   "outputs": [
    {
     "data": {
      "text/html": [
       "<style scoped>\n",
       "  .ansiout {\n",
       "    display: block;\n",
       "    unicode-bidi: embed;\n",
       "    white-space: pre-wrap;\n",
       "    word-wrap: break-word;\n",
       "    word-break: break-all;\n",
       "    font-family: \"Source Code Pro\", \"Menlo\", monospace;;\n",
       "    font-size: 13px;\n",
       "    color: #555;\n",
       "    margin-left: 4px;\n",
       "    line-height: 19px;\n",
       "  }\n",
       "</style>\n",
       "<div class=\"ansiout\">Out[18]: 7</div>"
      ]
     },
     "metadata": {
      "application/vnd.databricks.v1+output": {
       "addedWidgets": {},
       "arguments": {},
       "data": "<div class=\"ansiout\">Out[18]: 7</div>",
       "datasetInfos": [],
       "removedWidgets": [],
       "type": "html"
      }
     },
     "output_type": "display_data"
    }
   ],
   "source": [
    "# Check length\n",
    "len(csv_rdd.take(1)[0])"
   ]
  },
  {
   "cell_type": "markdown",
   "metadata": {},
   "source": [
    "# Spark DataFrames\n",
    "    \n",
    "Operatons:\n",
    " - Filter\n",
    " - Group By\n",
    " - Compute Aggregation\n",
    " - SQL Queries"
   ]
  },
  {
   "cell_type": "code",
   "execution_count": 0,
   "metadata": {
    "application/vnd.databricks.v1+cell": {
     "inputWidgets": {},
     "nuid": "ea18b7c2-c9ee-4133-b19f-75ae6b4b6bc2",
     "showTitle": false,
     "title": ""
    }
   },
   "outputs": [
    {
     "data": {
      "text/html": [
       "<style scoped>\n",
       "  .ansiout {\n",
       "    display: block;\n",
       "    unicode-bidi: embed;\n",
       "    white-space: pre-wrap;\n",
       "    word-wrap: break-word;\n",
       "    word-break: break-all;\n",
       "    font-family: \"Source Code Pro\", \"Menlo\", monospace;;\n",
       "    font-size: 13px;\n",
       "    color: #555;\n",
       "    margin-left: 4px;\n",
       "    line-height: 19px;\n",
       "  }\n",
       "</style>\n",
       "<div class=\"ansiout\"></div>"
      ]
     },
     "metadata": {
      "application/vnd.databricks.v1+output": {
       "addedWidgets": {},
       "arguments": {},
       "data": "<div class=\"ansiout\"></div>",
       "datasetInfos": [],
       "removedWidgets": [],
       "type": "html"
      }
     },
     "output_type": "display_data"
    }
   ],
   "source": [
    "# Create data frame\n",
    "df = sqlContext.read.load(data_file, \n",
    "                      format='com.databricks.spark.csv', \n",
    "                      header='true', \n",
    "                      inferSchema='true')"
   ]
  },
  {
   "cell_type": "code",
   "execution_count": 0,
   "metadata": {
    "application/vnd.databricks.v1+cell": {
     "inputWidgets": {},
     "nuid": "496fa16a-a12a-4e8c-bb29-fa188e3922e7",
     "showTitle": false,
     "title": ""
    }
   },
   "outputs": [
    {
     "data": {
      "text/html": [
       "<style scoped>\n",
       "  .ansiout {\n",
       "    display: block;\n",
       "    unicode-bidi: embed;\n",
       "    white-space: pre-wrap;\n",
       "    word-wrap: break-word;\n",
       "    word-break: break-all;\n",
       "    font-family: \"Source Code Pro\", \"Menlo\", monospace;;\n",
       "    font-size: 13px;\n",
       "    color: #555;\n",
       "    margin-left: 4px;\n",
       "    line-height: 19px;\n",
       "  }\n",
       "</style>\n",
       "<div class=\"ansiout\">Out[20]: 253</div>"
      ]
     },
     "metadata": {
      "application/vnd.databricks.v1+output": {
       "addedWidgets": {},
       "arguments": {},
       "data": "<div class=\"ansiout\">Out[20]: 253</div>",
       "datasetInfos": [],
       "removedWidgets": [],
       "type": "html"
      }
     },
     "output_type": "display_data"
    }
   ],
   "source": [
    "# Check count\n",
    "df.count()"
   ]
  },
  {
   "cell_type": "code",
   "execution_count": 0,
   "metadata": {
    "application/vnd.databricks.v1+cell": {
     "inputWidgets": {},
     "nuid": "e2285348-5448-4038-9dd7-acf974ba0c78",
     "showTitle": false,
     "title": ""
    }
   },
   "outputs": [
    {
     "data": {
      "text/html": [
       "<style scoped>\n",
       "  .ansiout {\n",
       "    display: block;\n",
       "    unicode-bidi: embed;\n",
       "    white-space: pre-wrap;\n",
       "    word-wrap: break-word;\n",
       "    word-break: break-all;\n",
       "    font-family: \"Source Code Pro\", \"Menlo\", monospace;;\n",
       "    font-size: 13px;\n",
       "    color: #555;\n",
       "    margin-left: 4px;\n",
       "    line-height: 19px;\n",
       "  }\n",
       "</style>\n",
       "<div class=\"ansiout\">Out[21]: [Row(Date=&#39;2019-07-15&#39;, Open=248.0, High=254.419998, Low=244.860001, Close=253.5, AdjClose=253.5, Volume=11000100),\n",
       " Row(Date=&#39;2019-07-16&#39;, Open=249.300003, High=253.529999, Low=247.929993, Close=252.380005, AdjClose=252.380005, Volume=8149000),\n",
       " Row(Date=&#39;2019-07-17&#39;, Open=255.669998, High=258.309998, Low=253.350006, Close=254.860001, AdjClose=254.860001, Volume=9764700),\n",
       " Row(Date=&#39;2019-07-18&#39;, Open=255.050003, High=255.75, Low=251.889999, Close=253.539993, AdjClose=253.539993, Volume=4764500),\n",
       " Row(Date=&#39;2019-07-19&#39;, Open=255.690002, High=259.959991, Low=254.619995, Close=258.179993, AdjClose=258.179993, Volume=7048400)]</div>"
      ]
     },
     "metadata": {
      "application/vnd.databricks.v1+output": {
       "addedWidgets": {},
       "arguments": {},
       "data": "<div class=\"ansiout\">Out[21]: [Row(Date=&#39;2019-07-15&#39;, Open=248.0, High=254.419998, Low=244.860001, Close=253.5, AdjClose=253.5, Volume=11000100),\n Row(Date=&#39;2019-07-16&#39;, Open=249.300003, High=253.529999, Low=247.929993, Close=252.380005, AdjClose=252.380005, Volume=8149000),\n Row(Date=&#39;2019-07-17&#39;, Open=255.669998, High=258.309998, Low=253.350006, Close=254.860001, AdjClose=254.860001, Volume=9764700),\n Row(Date=&#39;2019-07-18&#39;, Open=255.050003, High=255.75, Low=251.889999, Close=253.539993, AdjClose=253.539993, Volume=4764500),\n Row(Date=&#39;2019-07-19&#39;, Open=255.690002, High=259.959991, Low=254.619995, Close=258.179993, AdjClose=258.179993, Volume=7048400)]</div>",
       "datasetInfos": [],
       "removedWidgets": [],
       "type": "html"
      }
     },
     "output_type": "display_data"
    }
   ],
   "source": [
    "# Check data\n",
    "df.take(5)"
   ]
  },
  {
   "cell_type": "code",
   "execution_count": 0,
   "metadata": {
    "application/vnd.databricks.v1+cell": {
     "inputWidgets": {},
     "nuid": "e5508f4f-7268-4485-82f7-2b9d5de15d68",
     "showTitle": false,
     "title": ""
    }
   },
   "outputs": [
    {
     "data": {
      "text/html": [
       "<style scoped>\n",
       "  .ansiout {\n",
       "    display: block;\n",
       "    unicode-bidi: embed;\n",
       "    white-space: pre-wrap;\n",
       "    word-wrap: break-word;\n",
       "    word-break: break-all;\n",
       "    font-family: \"Source Code Pro\", \"Menlo\", monospace;;\n",
       "    font-size: 13px;\n",
       "    color: #555;\n",
       "    margin-left: 4px;\n",
       "    line-height: 19px;\n",
       "  }\n",
       "</style>\n",
       "<div class=\"ansiout\">root\n",
       "-- Date: string (nullable = true)\n",
       "-- Open: double (nullable = true)\n",
       "-- High: double (nullable = true)\n",
       "-- Low: double (nullable = true)\n",
       "-- Close: double (nullable = true)\n",
       "-- AdjClose: double (nullable = true)\n",
       "-- Volume: integer (nullable = true)\n",
       "\n",
       "</div>"
      ]
     },
     "metadata": {
      "application/vnd.databricks.v1+output": {
       "addedWidgets": {},
       "arguments": {},
       "data": "<div class=\"ansiout\">root\n |-- Date: string (nullable = true)\n |-- Open: double (nullable = true)\n |-- High: double (nullable = true)\n |-- Low: double (nullable = true)\n |-- Close: double (nullable = true)\n |-- AdjClose: double (nullable = true)\n |-- Volume: integer (nullable = true)\n\n</div>",
       "datasetInfos": [],
       "removedWidgets": [],
       "type": "html"
      }
     },
     "output_type": "display_data"
    }
   ],
   "source": [
    "# Check schema\n",
    "df.printSchema()"
   ]
  },
  {
   "cell_type": "code",
   "execution_count": 0,
   "metadata": {
    "application/vnd.databricks.v1+cell": {
     "inputWidgets": {},
     "nuid": "bcaf13f1-c315-42f9-947e-ab0d97e4135a",
     "showTitle": false,
     "title": ""
    }
   },
   "outputs": [
    {
     "data": {
      "text/html": [
       "<style scoped>\n",
       "  .ansiout {\n",
       "    display: block;\n",
       "    unicode-bidi: embed;\n",
       "    white-space: pre-wrap;\n",
       "    word-wrap: break-word;\n",
       "    word-break: break-all;\n",
       "    font-family: \"Source Code Pro\", \"Menlo\", monospace;;\n",
       "    font-size: 13px;\n",
       "    color: #555;\n",
       "    margin-left: 4px;\n",
       "    line-height: 19px;\n",
       "  }\n",
       "</style>\n",
       "<div class=\"ansiout\">Out[23]: </div>"
      ]
     },
     "metadata": {
      "application/vnd.databricks.v1+output": {
       "addedWidgets": {},
       "arguments": {},
       "data": "<div class=\"ansiout\">Out[23]: </div>",
       "datasetInfos": [],
       "removedWidgets": [],
       "type": "html"
      }
     },
     "output_type": "display_data"
    },
    {
     "data": {
      "text/html": [
       "<div>\n",
       "<style scoped>\n",
       "    .dataframe tbody tr th:only-of-type {\n",
       "        vertical-align: middle;\n",
       "    }\n",
       "\n",
       "    .dataframe tbody tr th {\n",
       "        vertical-align: top;\n",
       "    }\n",
       "\n",
       "    .dataframe thead th {\n",
       "        text-align: right;\n",
       "    }\n",
       "</style>\n",
       "<table border=\"1\" class=\"dataframe\">\n",
       "  <thead>\n",
       "    <tr style=\"text-align: right;\">\n",
       "      <th></th>\n",
       "      <th>Date</th>\n",
       "      <th>Open</th>\n",
       "      <th>High</th>\n",
       "      <th>Low</th>\n",
       "      <th>Close</th>\n",
       "      <th>AdjClose</th>\n",
       "      <th>Volume</th>\n",
       "    </tr>\n",
       "  </thead>\n",
       "  <tbody>\n",
       "    <tr>\n",
       "      <th>0</th>\n",
       "      <td>2019-07-15</td>\n",
       "      <td>248.000000</td>\n",
       "      <td>254.419998</td>\n",
       "      <td>244.860001</td>\n",
       "      <td>253.500000</td>\n",
       "      <td>253.500000</td>\n",
       "      <td>11000100</td>\n",
       "    </tr>\n",
       "    <tr>\n",
       "      <th>1</th>\n",
       "      <td>2019-07-16</td>\n",
       "      <td>249.300003</td>\n",
       "      <td>253.529999</td>\n",
       "      <td>247.929993</td>\n",
       "      <td>252.380005</td>\n",
       "      <td>252.380005</td>\n",
       "      <td>8149000</td>\n",
       "    </tr>\n",
       "    <tr>\n",
       "      <th>2</th>\n",
       "      <td>2019-07-17</td>\n",
       "      <td>255.669998</td>\n",
       "      <td>258.309998</td>\n",
       "      <td>253.350006</td>\n",
       "      <td>254.860001</td>\n",
       "      <td>254.860001</td>\n",
       "      <td>9764700</td>\n",
       "    </tr>\n",
       "    <tr>\n",
       "      <th>3</th>\n",
       "      <td>2019-07-18</td>\n",
       "      <td>255.050003</td>\n",
       "      <td>255.750000</td>\n",
       "      <td>251.889999</td>\n",
       "      <td>253.539993</td>\n",
       "      <td>253.539993</td>\n",
       "      <td>4764500</td>\n",
       "    </tr>\n",
       "    <tr>\n",
       "      <th>4</th>\n",
       "      <td>2019-07-19</td>\n",
       "      <td>255.690002</td>\n",
       "      <td>259.959991</td>\n",
       "      <td>254.619995</td>\n",
       "      <td>258.179993</td>\n",
       "      <td>258.179993</td>\n",
       "      <td>7048400</td>\n",
       "    </tr>\n",
       "  </tbody>\n",
       "</table>\n",
       "</div>"
      ]
     },
     "metadata": {
      "application/vnd.databricks.v1+output": {
       "addedWidgets": {},
       "arguments": {},
       "data": "<div>\n<style scoped>\n    .dataframe tbody tr th:only-of-type {\n        vertical-align: middle;\n    }\n\n    .dataframe tbody tr th {\n        vertical-align: top;\n    }\n\n    .dataframe thead th {\n        text-align: right;\n    }\n</style>\n<table border=\"1\" class=\"dataframe\">\n  <thead>\n    <tr style=\"text-align: right;\">\n      <th></th>\n      <th>Date</th>\n      <th>Open</th>\n      <th>High</th>\n      <th>Low</th>\n      <th>Close</th>\n      <th>AdjClose</th>\n      <th>Volume</th>\n    </tr>\n  </thead>\n  <tbody>\n    <tr>\n      <th>0</th>\n      <td>2019-07-15</td>\n      <td>248.000000</td>\n      <td>254.419998</td>\n      <td>244.860001</td>\n      <td>253.500000</td>\n      <td>253.500000</td>\n      <td>11000100</td>\n    </tr>\n    <tr>\n      <th>1</th>\n      <td>2019-07-16</td>\n      <td>249.300003</td>\n      <td>253.529999</td>\n      <td>247.929993</td>\n      <td>252.380005</td>\n      <td>252.380005</td>\n      <td>8149000</td>\n    </tr>\n    <tr>\n      <th>2</th>\n      <td>2019-07-17</td>\n      <td>255.669998</td>\n      <td>258.309998</td>\n      <td>253.350006</td>\n      <td>254.860001</td>\n      <td>254.860001</td>\n      <td>9764700</td>\n    </tr>\n    <tr>\n      <th>3</th>\n      <td>2019-07-18</td>\n      <td>255.050003</td>\n      <td>255.750000</td>\n      <td>251.889999</td>\n      <td>253.539993</td>\n      <td>253.539993</td>\n      <td>4764500</td>\n    </tr>\n    <tr>\n      <th>4</th>\n      <td>2019-07-19</td>\n      <td>255.690002</td>\n      <td>259.959991</td>\n      <td>254.619995</td>\n      <td>258.179993</td>\n      <td>258.179993</td>\n      <td>7048400</td>\n    </tr>\n  </tbody>\n</table>\n</div>",
       "datasetInfos": [],
       "removedWidgets": [],
       "textData": null,
       "type": "htmlSandbox"
      }
     },
     "output_type": "display_data"
    }
   ],
   "source": [
    "# Import library\n",
    "import pandas\n",
    "\n",
    "# Check pandas dataframe\n",
    "df.toPandas().head(5)"
   ]
  },
  {
   "cell_type": "markdown",
   "metadata": {},
   "source": [
    "# Explore And Query Data"
   ]
  },
  {
   "cell_type": "code",
   "execution_count": 0,
   "metadata": {
    "application/vnd.databricks.v1+cell": {
     "inputWidgets": {},
     "nuid": "95261d45-fdc2-47f9-8c56-f926ed874379",
     "showTitle": false,
     "title": ""
    }
   },
   "outputs": [
    {
     "data": {
      "text/html": [
       "<style scoped>\n",
       "  .ansiout {\n",
       "    display: block;\n",
       "    unicode-bidi: embed;\n",
       "    white-space: pre-wrap;\n",
       "    word-wrap: break-word;\n",
       "    word-break: break-all;\n",
       "    font-family: \"Source Code Pro\", \"Menlo\", monospace;;\n",
       "    font-size: 13px;\n",
       "    color: #555;\n",
       "    margin-left: 4px;\n",
       "    line-height: 19px;\n",
       "  }\n",
       "</style>\n",
       "<div class=\"ansiout\"></div>"
      ]
     },
     "metadata": {
      "application/vnd.databricks.v1+output": {
       "addedWidgets": {},
       "arguments": {},
       "data": "<div class=\"ansiout\"></div>",
       "datasetInfos": [],
       "removedWidgets": [],
       "type": "html"
      }
     },
     "output_type": "display_data"
    }
   ],
   "source": [
    "# Import library\n",
    "from pyspark.sql.types import *\n",
    "\n",
    "# Set up structure type\n",
    "schema = StructType([\n",
    "   StructField(\"date\", StringType(), True),\n",
    "   StructField(\"openprice\", IntegerType(), True),\n",
    "   StructField(\"highprice\", IntegerType(), True),\n",
    "   StructField(\"lowprice\", IntegerType(), True),\n",
    "   StructField(\"closeprice\", IntegerType(), True),\n",
    "   StructField(\"volume\", IntegerType(), True),\n",
    "   StructField(\"adjcloseprice\", IntegerType(), True)])\n",
    "\n",
    "# Create dataframe\n",
    "df2 = sqlContext.read.load(data_file, \n",
    "                      format='com.databricks.spark.csv', \n",
    "                      header='true', \n",
    "                      schema=schema)"
   ]
  },
  {
   "cell_type": "code",
   "execution_count": 0,
   "metadata": {
    "application/vnd.databricks.v1+cell": {
     "inputWidgets": {},
     "nuid": "41501531-796f-4c31-9d9b-a0f8eca423a6",
     "showTitle": false,
     "title": ""
    }
   },
   "outputs": [
    {
     "data": {
      "text/html": [
       "<style scoped>\n",
       "  .ansiout {\n",
       "    display: block;\n",
       "    unicode-bidi: embed;\n",
       "    white-space: pre-wrap;\n",
       "    word-wrap: break-word;\n",
       "    word-break: break-all;\n",
       "    font-family: \"Source Code Pro\", \"Menlo\", monospace;;\n",
       "    font-size: 13px;\n",
       "    color: #555;\n",
       "    margin-left: 4px;\n",
       "    line-height: 19px;\n",
       "  }\n",
       "</style>\n",
       "<div class=\"ansiout\">Out[25]: [Row(date=&#39;2019-07-15&#39;, openprice=None, highprice=None, lowprice=None, closeprice=None, volume=None, adjcloseprice=11000100),\n",
       " Row(date=&#39;2019-07-16&#39;, openprice=None, highprice=None, lowprice=None, closeprice=None, volume=None, adjcloseprice=8149000)]</div>"
      ]
     },
     "metadata": {
      "application/vnd.databricks.v1+output": {
       "addedWidgets": {},
       "arguments": {},
       "data": "<div class=\"ansiout\">Out[25]: [Row(date=&#39;2019-07-15&#39;, openprice=None, highprice=None, lowprice=None, closeprice=None, volume=None, adjcloseprice=11000100),\n Row(date=&#39;2019-07-16&#39;, openprice=None, highprice=None, lowprice=None, closeprice=None, volume=None, adjcloseprice=8149000)]</div>",
       "datasetInfos": [],
       "removedWidgets": [],
       "type": "html"
      }
     },
     "output_type": "display_data"
    }
   ],
   "source": [
    "# Check dataframe\n",
    "df2.take(2)"
   ]
  },
  {
   "cell_type": "code",
   "execution_count": 0,
   "metadata": {
    "application/vnd.databricks.v1+cell": {
     "inputWidgets": {},
     "nuid": "cfe28e99-90ae-4e5c-aafb-ad402fb2f3eb",
     "showTitle": false,
     "title": ""
    }
   },
   "outputs": [
    {
     "data": {
      "text/html": [
       "<style scoped>\n",
       "  .ansiout {\n",
       "    display: block;\n",
       "    unicode-bidi: embed;\n",
       "    white-space: pre-wrap;\n",
       "    word-wrap: break-word;\n",
       "    word-break: break-all;\n",
       "    font-family: \"Source Code Pro\", \"Menlo\", monospace;;\n",
       "    font-size: 13px;\n",
       "    color: #555;\n",
       "    margin-left: 4px;\n",
       "    line-height: 19px;\n",
       "  }\n",
       "</style>\n",
       "<div class=\"ansiout\">root\n",
       "-- date: string (nullable = true)\n",
       "-- openprice: integer (nullable = true)\n",
       "-- highprice: integer (nullable = true)\n",
       "-- lowprice: integer (nullable = true)\n",
       "-- closeprice: integer (nullable = true)\n",
       "-- volume: integer (nullable = true)\n",
       "-- adjcloseprice: integer (nullable = true)\n",
       "\n",
       "</div>"
      ]
     },
     "metadata": {
      "application/vnd.databricks.v1+output": {
       "addedWidgets": {},
       "arguments": {},
       "data": "<div class=\"ansiout\">root\n |-- date: string (nullable = true)\n |-- openprice: integer (nullable = true)\n |-- highprice: integer (nullable = true)\n |-- lowprice: integer (nullable = true)\n |-- closeprice: integer (nullable = true)\n |-- volume: integer (nullable = true)\n |-- adjcloseprice: integer (nullable = true)\n\n</div>",
       "datasetInfos": [],
       "removedWidgets": [],
       "type": "html"
      }
     },
     "output_type": "display_data"
    }
   ],
   "source": [
    "# Check schema\n",
    "df2.printSchema()"
   ]
  },
  {
   "cell_type": "code",
   "execution_count": 0,
   "metadata": {
    "application/vnd.databricks.v1+cell": {
     "inputWidgets": {},
     "nuid": "bed88eee-13b2-4d39-9417-faf402cb94a3",
     "showTitle": false,
     "title": ""
    }
   },
   "outputs": [
    {
     "data": {
      "text/html": [
       "<style scoped>\n",
       "  .ansiout {\n",
       "    display: block;\n",
       "    unicode-bidi: embed;\n",
       "    white-space: pre-wrap;\n",
       "    word-wrap: break-word;\n",
       "    word-break: break-all;\n",
       "    font-family: \"Source Code Pro\", \"Menlo\", monospace;;\n",
       "    font-size: 13px;\n",
       "    color: #555;\n",
       "    margin-left: 4px;\n",
       "    line-height: 19px;\n",
       "  }\n",
       "</style>\n",
       "<div class=\"ansiout\">Out[27]: pyspark.sql.dataframe.DataFrame</div>"
      ]
     },
     "metadata": {
      "application/vnd.databricks.v1+output": {
       "addedWidgets": {},
       "arguments": {},
       "data": "<div class=\"ansiout\">Out[27]: pyspark.sql.dataframe.DataFrame</div>",
       "datasetInfos": [],
       "removedWidgets": [],
       "type": "html"
      }
     },
     "output_type": "display_data"
    }
   ],
   "source": [
    "# Check type\n",
    "type(df)"
   ]
  },
  {
   "cell_type": "code",
   "execution_count": 0,
   "metadata": {
    "application/vnd.databricks.v1+cell": {
     "inputWidgets": {},
     "nuid": "cec4fb92-fb67-463c-a1b3-3f9ff9645611",
     "showTitle": false,
     "title": ""
    }
   },
   "outputs": [
    {
     "data": {
      "text/html": [
       "<style scoped>\n",
       "  .ansiout {\n",
       "    display: block;\n",
       "    unicode-bidi: embed;\n",
       "    white-space: pre-wrap;\n",
       "    word-wrap: break-word;\n",
       "    word-break: break-all;\n",
       "    font-family: \"Source Code Pro\", \"Menlo\", monospace;;\n",
       "    font-size: 13px;\n",
       "    color: #555;\n",
       "    margin-left: 4px;\n",
       "    line-height: 19px;\n",
       "  }\n",
       "</style>\n",
       "<div class=\"ansiout\">+----------+----------+----------+----------+----------+----------+--------+\n",
       "      Date|      Open|      High|       Low|     Close|  AdjClose|  Volume|\n",
       "+----------+----------+----------+----------+----------+----------+--------+\n",
       "2019-07-15|     248.0|254.419998|244.860001|     253.5|     253.5|11000100|\n",
       "2019-07-16|249.300003|253.529999|247.929993|252.380005|252.380005| 8149000|\n",
       "2019-07-17|255.669998|258.309998|253.350006|254.860001|254.860001| 9764700|\n",
       "2019-07-18|255.050003|    255.75|251.889999|253.539993|253.539993| 4764500|\n",
       "2019-07-19|255.690002|259.959991|254.619995|258.179993|258.179993| 7048400|\n",
       "+----------+----------+----------+----------+----------+----------+--------+\n",
       "only showing top 5 rows\n",
       "\n",
       "</div>"
      ]
     },
     "metadata": {
      "application/vnd.databricks.v1+output": {
       "addedWidgets": {},
       "arguments": {},
       "data": "<div class=\"ansiout\">+----------+----------+----------+----------+----------+----------+--------+\n|      Date|      Open|      High|       Low|     Close|  AdjClose|  Volume|\n+----------+----------+----------+----------+----------+----------+--------+\n|2019-07-15|     248.0|254.419998|244.860001|     253.5|     253.5|11000100|\n|2019-07-16|249.300003|253.529999|247.929993|252.380005|252.380005| 8149000|\n|2019-07-17|255.669998|258.309998|253.350006|254.860001|254.860001| 9764700|\n|2019-07-18|255.050003|    255.75|251.889999|253.539993|253.539993| 4764500|\n|2019-07-19|255.690002|259.959991|254.619995|258.179993|258.179993| 7048400|\n+----------+----------+----------+----------+----------+----------+--------+\nonly showing top 5 rows\n\n</div>",
       "datasetInfos": [],
       "removedWidgets": [],
       "type": "html"
      }
     },
     "output_type": "display_data"
    }
   ],
   "source": [
    "# Show data\n",
    "df.show(5)"
   ]
  },
  {
   "cell_type": "code",
   "execution_count": 0,
   "metadata": {
    "application/vnd.databricks.v1+cell": {
     "inputWidgets": {},
     "nuid": "7621c89f-7f3f-4980-8dc3-0f193c158aa1",
     "showTitle": false,
     "title": ""
    }
   },
   "outputs": [
    {
     "data": {
      "text/html": [
       "<style scoped>\n",
       "  .ansiout {\n",
       "    display: block;\n",
       "    unicode-bidi: embed;\n",
       "    white-space: pre-wrap;\n",
       "    word-wrap: break-word;\n",
       "    word-break: break-all;\n",
       "    font-family: \"Source Code Pro\", \"Menlo\", monospace;;\n",
       "    font-size: 13px;\n",
       "    color: #555;\n",
       "    margin-left: 4px;\n",
       "    line-height: 19px;\n",
       "  }\n",
       "</style>\n",
       "<div class=\"ansiout\">+----------+----------+----------+----------+----------+----------+--------+\n",
       "      Date|      Open|      High|       Low|     Close|  AdjClose|  Volume|\n",
       "+----------+----------+----------+----------+----------+----------+--------+\n",
       "2019-07-15|     248.0|254.419998|244.860001|     253.5|     253.5|11000100|\n",
       "2019-07-16|249.300003|253.529999|247.929993|252.380005|252.380005| 8149000|\n",
       "2019-07-17|255.669998|258.309998|253.350006|254.860001|254.860001| 9764700|\n",
       "2019-07-18|255.050003|    255.75|251.889999|253.539993|253.539993| 4764500|\n",
       "2019-07-19|255.690002|259.959991|254.619995|258.179993|258.179993| 7048400|\n",
       "2019-07-22|    258.75|262.149994|254.190002|255.679993|255.679993| 6842400|\n",
       "2019-07-23|256.709991|260.480011|     254.5|260.170013|260.170013| 5023100|\n",
       "2019-07-24|259.170013|266.070007|258.160004|264.880005|264.880005|11072800|\n",
       "2019-07-25|     233.5|     234.5|225.550003|228.820007|228.820007|22418300|\n",
       "2019-07-26|226.919998|230.259995|    222.25|228.039993|228.039993|10027700|\n",
       "2019-07-29|227.089996|235.940002|226.029999|235.770004|235.770004| 9273300|\n",
       "2019-07-30|232.899994|243.360001|232.179993|242.259995|242.259995| 8109000|\n",
       "2019-07-31|     243.0|246.679993|236.649994|241.610001|241.610001| 9178200|\n",
       "2019-08-01|242.649994|244.509995|231.770004|233.850006|233.850006| 8259500|\n",
       "2019-08-02|231.350006|236.270004|229.229996|234.339996|234.339996| 6136500|\n",
       "2019-08-05|229.600006|231.369995|225.779999|228.320007|228.320007| 7028300|\n",
       "2019-08-06|231.880005|     232.5|    225.75|    230.75|    230.75| 5564200|\n",
       "2019-08-07|     226.5|233.570007|225.800003|233.419998|233.419998| 4776500|\n",
       "2019-08-08|234.449997|239.800003|232.649994|238.300003|238.300003| 5274300|\n",
       "2019-08-09|236.050003|238.960007|233.809998|235.009995|235.009995| 3898200|\n",
       "+----------+----------+----------+----------+----------+----------+--------+\n",
       "only showing top 20 rows\n",
       "\n",
       "</div>"
      ]
     },
     "metadata": {
      "application/vnd.databricks.v1+output": {
       "addedWidgets": {},
       "arguments": {},
       "data": "<div class=\"ansiout\">+----------+----------+----------+----------+----------+----------+--------+\n|      Date|      Open|      High|       Low|     Close|  AdjClose|  Volume|\n+----------+----------+----------+----------+----------+----------+--------+\n|2019-07-15|     248.0|254.419998|244.860001|     253.5|     253.5|11000100|\n|2019-07-16|249.300003|253.529999|247.929993|252.380005|252.380005| 8149000|\n|2019-07-17|255.669998|258.309998|253.350006|254.860001|254.860001| 9764700|\n|2019-07-18|255.050003|    255.75|251.889999|253.539993|253.539993| 4764500|\n|2019-07-19|255.690002|259.959991|254.619995|258.179993|258.179993| 7048400|\n|2019-07-22|    258.75|262.149994|254.190002|255.679993|255.679993| 6842400|\n|2019-07-23|256.709991|260.480011|     254.5|260.170013|260.170013| 5023100|\n|2019-07-24|259.170013|266.070007|258.160004|264.880005|264.880005|11072800|\n|2019-07-25|     233.5|     234.5|225.550003|228.820007|228.820007|22418300|\n|2019-07-26|226.919998|230.259995|    222.25|228.039993|228.039993|10027700|\n|2019-07-29|227.089996|235.940002|226.029999|235.770004|235.770004| 9273300|\n|2019-07-30|232.899994|243.360001|232.179993|242.259995|242.259995| 8109000|\n|2019-07-31|     243.0|246.679993|236.649994|241.610001|241.610001| 9178200|\n|2019-08-01|242.649994|244.509995|231.770004|233.850006|233.850006| 8259500|\n|2019-08-02|231.350006|236.270004|229.229996|234.339996|234.339996| 6136500|\n|2019-08-05|229.600006|231.369995|225.779999|228.320007|228.320007| 7028300|\n|2019-08-06|231.880005|     232.5|    225.75|    230.75|    230.75| 5564200|\n|2019-08-07|     226.5|233.570007|225.800003|233.419998|233.419998| 4776500|\n|2019-08-08|234.449997|239.800003|232.649994|238.300003|238.300003| 5274300|\n|2019-08-09|236.050003|238.960007|233.809998|235.009995|235.009995| 3898200|\n+----------+----------+----------+----------+----------+----------+--------+\nonly showing top 20 rows\n\n</div>",
       "datasetInfos": [],
       "removedWidgets": [],
       "type": "html"
      }
     },
     "output_type": "display_data"
    }
   ],
   "source": [
    "# Label data\n",
    "tesla_data_file = '/FileStore/tables/TSLA.csv'\n",
    "\n",
    "# Create dataframe\n",
    "tesla_df = sqlContext.read.load(tesla_data_file, \n",
    "                      format='com.databricks.spark.csv', \n",
    "                      header='true', \n",
    "                      inferSchema='true')\n",
    "# Show data\n",
    "tesla_df.show()"
   ]
  },
  {
   "cell_type": "code",
   "execution_count": 0,
   "metadata": {
    "application/vnd.databricks.v1+cell": {
     "inputWidgets": {},
     "nuid": "a0225553-8901-4a46-b7c4-529c7d1ba9c9",
     "showTitle": false,
     "title": ""
    }
   },
   "outputs": [
    {
     "data": {
      "text/html": [
       "<style scoped>\n",
       "  .ansiout {\n",
       "    display: block;\n",
       "    unicode-bidi: embed;\n",
       "    white-space: pre-wrap;\n",
       "    word-wrap: break-word;\n",
       "    word-break: break-all;\n",
       "    font-family: \"Source Code Pro\", \"Menlo\", monospace;;\n",
       "    font-size: 13px;\n",
       "    color: #555;\n",
       "    margin-left: 4px;\n",
       "    line-height: 19px;\n",
       "  }\n",
       "</style>\n",
       "<div class=\"ansiout\">+----------+-----------+-----------+-----------+-----------+-----------+-------+\n",
       "      Date|       Open|       High|        Low|      Close|   AdjClose| Volume|\n",
       "+----------+-----------+-----------+-----------+-----------+-----------+-------+\n",
       "2019-07-15|1146.859985|1150.819946|1139.400024|1150.339966|1150.339966| 903800|\n",
       "2019-07-16|     1146.0|1158.579956|     1145.0|1153.579956|1153.579956|1238800|\n",
       "2019-07-17|1150.969971|1158.359985| 1145.77002|1146.349976|1146.349976|1170000|\n",
       "2019-07-18| 1141.73999| 1147.60498| 1132.72998|1146.329956|1146.329956|1291300|\n",
       "2019-07-19|1148.189941|1151.140015|1129.619995|1130.099976|1130.099976|1647200|\n",
       "2019-07-22|1133.449951|    1139.25| 1124.23999|1138.069946|1138.069946|1301500|\n",
       "2019-07-23|     1144.0|1146.900024|1131.800049|1146.209961|1146.209961|1093700|\n",
       "2019-07-24|1131.900024|     1144.0| 1126.98999|1137.810059|1137.810059|1589800|\n",
       "2019-07-25|1137.819946|1141.699951|1120.920044|1132.119995|1132.119995|2209800|\n",
       "2019-07-26|1224.040039|1265.550049|     1224.0|1250.410034|1250.410034|4805800|\n",
       "2019-07-29|1241.050049|1247.369995| 1228.22998|1239.410034|1239.410034|2223700|\n",
       "2019-07-30|1225.410034|1234.869995|1223.300049|1225.140015|1225.140015|1453300|\n",
       "2019-07-31|     1223.0|     1234.0|1207.764038|1216.680054|1216.680054|1725500|\n",
       "2019-08-01|1214.030029|1234.109985|1205.719971| 1209.01001| 1209.01001|1698500|\n",
       "2019-08-02| 1200.73999|1206.900024|1188.939941| 1193.98999| 1193.98999|1645100|\n",
       "2019-08-05|1170.040039| 1175.23999|1140.140015|1152.319946|1152.319946|2597500|\n",
       "2019-08-06|1163.310059|1179.959961|     1160.0|1169.949951|1169.949951|1709400|\n",
       "2019-08-07|     1156.0|1178.444946|1149.624023| 1173.98999| 1173.98999|1444300|\n",
       "2019-08-08|1182.829956| 1205.01001| 1173.02002|1204.800049|1204.800049|1468000|\n",
       "2019-08-09| 1197.98999|1203.880005|1183.603027| 1188.01001| 1188.01001|1065700|\n",
       "+----------+-----------+-----------+-----------+-----------+-----------+-------+\n",
       "only showing top 20 rows\n",
       "\n",
       "</div>"
      ]
     },
     "metadata": {
      "application/vnd.databricks.v1+output": {
       "addedWidgets": {},
       "arguments": {},
       "data": "<div class=\"ansiout\">+----------+-----------+-----------+-----------+-----------+-----------+-------+\n|      Date|       Open|       High|        Low|      Close|   AdjClose| Volume|\n+----------+-----------+-----------+-----------+-----------+-----------+-------+\n|2019-07-15|1146.859985|1150.819946|1139.400024|1150.339966|1150.339966| 903800|\n|2019-07-16|     1146.0|1158.579956|     1145.0|1153.579956|1153.579956|1238800|\n|2019-07-17|1150.969971|1158.359985| 1145.77002|1146.349976|1146.349976|1170000|\n|2019-07-18| 1141.73999| 1147.60498| 1132.72998|1146.329956|1146.329956|1291300|\n|2019-07-19|1148.189941|1151.140015|1129.619995|1130.099976|1130.099976|1647200|\n|2019-07-22|1133.449951|    1139.25| 1124.23999|1138.069946|1138.069946|1301500|\n|2019-07-23|     1144.0|1146.900024|1131.800049|1146.209961|1146.209961|1093700|\n|2019-07-24|1131.900024|     1144.0| 1126.98999|1137.810059|1137.810059|1589800|\n|2019-07-25|1137.819946|1141.699951|1120.920044|1132.119995|1132.119995|2209800|\n|2019-07-26|1224.040039|1265.550049|     1224.0|1250.410034|1250.410034|4805800|\n|2019-07-29|1241.050049|1247.369995| 1228.22998|1239.410034|1239.410034|2223700|\n|2019-07-30|1225.410034|1234.869995|1223.300049|1225.140015|1225.140015|1453300|\n|2019-07-31|     1223.0|     1234.0|1207.764038|1216.680054|1216.680054|1725500|\n|2019-08-01|1214.030029|1234.109985|1205.719971| 1209.01001| 1209.01001|1698500|\n|2019-08-02| 1200.73999|1206.900024|1188.939941| 1193.98999| 1193.98999|1645100|\n|2019-08-05|1170.040039| 1175.23999|1140.140015|1152.319946|1152.319946|2597500|\n|2019-08-06|1163.310059|1179.959961|     1160.0|1169.949951|1169.949951|1709400|\n|2019-08-07|     1156.0|1178.444946|1149.624023| 1173.98999| 1173.98999|1444300|\n|2019-08-08|1182.829956| 1205.01001| 1173.02002|1204.800049|1204.800049|1468000|\n|2019-08-09| 1197.98999|1203.880005|1183.603027| 1188.01001| 1188.01001|1065700|\n+----------+-----------+-----------+-----------+-----------+-----------+-------+\nonly showing top 20 rows\n\n</div>",
       "datasetInfos": [],
       "removedWidgets": [],
       "type": "html"
      }
     },
     "output_type": "display_data"
    }
   ],
   "source": [
    "# Label data\n",
    "google_data_file = '/FileStore/tables/GOOG.csv'\n",
    "\n",
    "# Create dataframe\n",
    "google_df = sqlContext.read.load(google_data_file, \n",
    "                      format='com.databricks.spark.csv', \n",
    "                      header='true', \n",
    "                      inferSchema='true')\n",
    "\n",
    "# Show data\n",
    "google_df.show()"
   ]
  },
  {
   "cell_type": "code",
   "execution_count": 0,
   "metadata": {
    "application/vnd.databricks.v1+cell": {
     "inputWidgets": {},
     "nuid": "540d533d-2d9b-4eaa-b6f6-4d2e34ca5e00",
     "showTitle": false,
     "title": ""
    }
   },
   "outputs": [
    {
     "data": {
      "text/html": [
       "<style scoped>\n",
       "  .ansiout {\n",
       "    display: block;\n",
       "    unicode-bidi: embed;\n",
       "    white-space: pre-wrap;\n",
       "    word-wrap: break-word;\n",
       "    word-break: break-all;\n",
       "    font-family: \"Source Code Pro\", \"Menlo\", monospace;;\n",
       "    font-size: 13px;\n",
       "    color: #555;\n",
       "    margin-left: 4px;\n",
       "    line-height: 19px;\n",
       "  }\n",
       "</style>\n",
       "<div class=\"ansiout\">+----------+-----------+-----------+-----------+-----------+-----------+-------+\n",
       "      Date|       Open|       High|        Low|      Close|   AdjClose| Volume|\n",
       "+----------+-----------+-----------+-----------+-----------+-----------+-------+\n",
       "2019-07-15|2021.400024|2022.900024|2001.550049| 2020.98999| 2020.98999|2981300|\n",
       "2019-07-16|2010.579956|2026.319946|2001.219971|2009.900024|2009.900024|2618200|\n",
       "2019-07-17|2007.050049|     2012.0|1992.030029|1992.030029|1992.030029|2558800|\n",
       "2019-07-18| 1980.01001|     1987.5|1951.550049|1977.900024|1977.900024|3504300|\n",
       "2019-07-19|1991.209961|     1996.0| 1962.22998| 1964.52002| 1964.52002|3185600|\n",
       "2019-07-22|1971.140015|     1989.0| 1958.26001|1985.630005|1985.630005|2900000|\n",
       "2019-07-23| 1995.98999|1997.790039|1973.130005| 1994.48999| 1994.48999|2703500|\n",
       "2019-07-24|1969.300049|2001.300049|1965.869995|2000.810059|2000.810059|2631300|\n",
       "2019-07-25|     2001.0|2001.199951|1972.719971|1973.819946|1973.819946|4136500|\n",
       "2019-07-26|     1942.0|1950.900024| 1924.51001|1943.050049|1943.050049|4927100|\n",
       "2019-07-29|     1930.0| 1932.22998|1890.540039|1912.449951|1912.449951|4493200|\n",
       "2019-07-30|1891.119995|1909.890015| 1883.47998|1898.530029|1898.530029|2910900|\n",
       "2019-07-31|1898.109985|1899.550049|1849.439941|1866.780029|1866.780029|4470700|\n",
       "2019-08-01|1871.719971|1897.920044| 1844.01001|1855.319946|1855.319946|4713300|\n",
       "2019-08-02|1845.069946|1846.359985| 1808.02002| 1823.23999| 1823.23999|4956200|\n",
       "2019-08-05|1770.219971|1788.670044|1748.780029|1765.130005|1765.130005|6058200|\n",
       "2019-08-06| 1792.22998| 1793.77002|1753.400024|1787.829956|1787.829956|5070300|\n",
       "2019-08-07| 1773.98999|1798.930054|     1757.0|1793.400024|1793.400024|4526900|\n",
       "2019-08-08|     1806.0| 1834.26001|1798.109985|1832.890015|1832.890015|3701200|\n",
       "2019-08-09|1828.949951|1831.089966|1802.219971|1807.579956|1807.579956|2879800|\n",
       "+----------+-----------+-----------+-----------+-----------+-----------+-------+\n",
       "only showing top 20 rows\n",
       "\n",
       "</div>"
      ]
     },
     "metadata": {
      "application/vnd.databricks.v1+output": {
       "addedWidgets": {},
       "arguments": {},
       "data": "<div class=\"ansiout\">+----------+-----------+-----------+-----------+-----------+-----------+-------+\n|      Date|       Open|       High|        Low|      Close|   AdjClose| Volume|\n+----------+-----------+-----------+-----------+-----------+-----------+-------+\n|2019-07-15|2021.400024|2022.900024|2001.550049| 2020.98999| 2020.98999|2981300|\n|2019-07-16|2010.579956|2026.319946|2001.219971|2009.900024|2009.900024|2618200|\n|2019-07-17|2007.050049|     2012.0|1992.030029|1992.030029|1992.030029|2558800|\n|2019-07-18| 1980.01001|     1987.5|1951.550049|1977.900024|1977.900024|3504300|\n|2019-07-19|1991.209961|     1996.0| 1962.22998| 1964.52002| 1964.52002|3185600|\n|2019-07-22|1971.140015|     1989.0| 1958.26001|1985.630005|1985.630005|2900000|\n|2019-07-23| 1995.98999|1997.790039|1973.130005| 1994.48999| 1994.48999|2703500|\n|2019-07-24|1969.300049|2001.300049|1965.869995|2000.810059|2000.810059|2631300|\n|2019-07-25|     2001.0|2001.199951|1972.719971|1973.819946|1973.819946|4136500|\n|2019-07-26|     1942.0|1950.900024| 1924.51001|1943.050049|1943.050049|4927100|\n|2019-07-29|     1930.0| 1932.22998|1890.540039|1912.449951|1912.449951|4493200|\n|2019-07-30|1891.119995|1909.890015| 1883.47998|1898.530029|1898.530029|2910900|\n|2019-07-31|1898.109985|1899.550049|1849.439941|1866.780029|1866.780029|4470700|\n|2019-08-01|1871.719971|1897.920044| 1844.01001|1855.319946|1855.319946|4713300|\n|2019-08-02|1845.069946|1846.359985| 1808.02002| 1823.23999| 1823.23999|4956200|\n|2019-08-05|1770.219971|1788.670044|1748.780029|1765.130005|1765.130005|6058200|\n|2019-08-06| 1792.22998| 1793.77002|1753.400024|1787.829956|1787.829956|5070300|\n|2019-08-07| 1773.98999|1798.930054|     1757.0|1793.400024|1793.400024|4526900|\n|2019-08-08|     1806.0| 1834.26001|1798.109985|1832.890015|1832.890015|3701200|\n|2019-08-09|1828.949951|1831.089966|1802.219971|1807.579956|1807.579956|2879800|\n+----------+-----------+-----------+-----------+-----------+-----------+-------+\nonly showing top 20 rows\n\n</div>",
       "datasetInfos": [],
       "removedWidgets": [],
       "type": "html"
      }
     },
     "output_type": "display_data"
    }
   ],
   "source": [
    "# Label data\n",
    "amazon_data_file = '/FileStore/tables/AMZN.csv'\n",
    "\n",
    "# Create dataframe\n",
    "amazon_df = sqlContext.read.load(amazon_data_file, \n",
    "                      format='com.databricks.spark.csv', \n",
    "                      header='true', \n",
    "                      inferSchema='true')\n",
    "\n",
    "# Show data\n",
    "amazon_df.show()"
   ]
  },
  {
   "cell_type": "markdown",
   "metadata": {},
   "source": [
    "# Spark SQL"
   ]
  },
  {
   "cell_type": "code",
   "execution_count": 0,
   "metadata": {
    "application/vnd.databricks.v1+cell": {
     "inputWidgets": {},
     "nuid": "6f8a9f34-4018-4192-946f-2b7a1932585e",
     "showTitle": false,
     "title": ""
    }
   },
   "outputs": [
    {
     "data": {
      "text/html": [
       "<style scoped>\n",
       "  .ansiout {\n",
       "    display: block;\n",
       "    unicode-bidi: embed;\n",
       "    white-space: pre-wrap;\n",
       "    word-wrap: break-word;\n",
       "    word-break: break-all;\n",
       "    font-family: \"Source Code Pro\", \"Menlo\", monospace;;\n",
       "    font-size: 13px;\n",
       "    color: #555;\n",
       "    margin-left: 4px;\n",
       "    line-height: 19px;\n",
       "  }\n",
       "</style>\n",
       "<div class=\"ansiout\">+----+------------------+\n",
       "year|     avg(AdjClose)|\n",
       "+----+------------------+\n",
       "2019|1800.6161329411755|\n",
       "2020| 2236.414478798507|\n",
       "+----+------------------+\n",
       "\n",
       "</div>"
      ]
     },
     "metadata": {
      "application/vnd.databricks.v1+output": {
       "addedWidgets": {},
       "arguments": {},
       "data": "<div class=\"ansiout\">+----+------------------+\n|year|     avg(AdjClose)|\n+----+------------------+\n|2019|1800.6161329411755|\n|2020| 2236.414478798507|\n+----+------------------+\n\n</div>",
       "datasetInfos": [],
       "removedWidgets": [],
       "type": "html"
      }
     },
     "output_type": "display_data"
    }
   ],
   "source": [
    "# Import libraries\n",
    "from pyspark.sql.functions import year, month, dayofmonth\n",
    "import datetime\n",
    "\n",
    "# Average closing price per year for AMZN\n",
    "# stocksDF.select(year($\"dt\").alias(\"yr\"), $\"adjcloseprice\").groupBy(\"yr\").avg(\"adjcloseprice\").orderBy(desc(\"yr\")).show\n",
    "amazon_df.select(year(\"Date\").alias(\"year\"), \"AdjClose\").groupby(\"year\").avg(\"AdjClose\").sort(\"year\").show()"
   ]
  },
  {
   "cell_type": "code",
   "execution_count": 0,
   "metadata": {
    "application/vnd.databricks.v1+cell": {
     "inputWidgets": {},
     "nuid": "4f604bcc-ae2f-4189-9150-73edddbe9294",
     "showTitle": false,
     "title": ""
    }
   },
   "outputs": [
    {
     "data": {
      "text/html": [
       "<style scoped>\n",
       "  .ansiout {\n",
       "    display: block;\n",
       "    unicode-bidi: embed;\n",
       "    white-space: pre-wrap;\n",
       "    word-wrap: break-word;\n",
       "    word-break: break-all;\n",
       "    font-family: \"Source Code Pro\", \"Menlo\", monospace;;\n",
       "    font-size: 13px;\n",
       "    color: #555;\n",
       "    margin-left: 4px;\n",
       "    line-height: 19px;\n",
       "  }\n",
       "</style>\n",
       "<div class=\"ansiout\">+----+-----+------------------+\n",
       "year|month|     avg(AdjClose)|\n",
       "+----+-----+------------------+\n",
       "2019|    7|1964.6846265384618|\n",
       "2019|    8|1793.6027220909093|\n",
       "2019|    9|     1799.12099615|\n",
       "2019|   10|1752.3317498695653|\n",
       "2019|   11|      1774.2939941|\n",
       "2019|   12|1785.7728446190476|\n",
       "2020|    1|1884.2376128571425|\n",
       "2020|    2|2066.1752672631574|\n",
       "2020|    3|1872.3104358636365|\n",
       "2020|    4|2228.7052408571426|\n",
       "2020|    5|2394.1840209499996|\n",
       "2020|    6|      2613.5454545|\n",
       "2020|    7| 3053.100016222222|\n",
       "+----+-----+------------------+\n",
       "\n",
       "</div>"
      ]
     },
     "metadata": {
      "application/vnd.databricks.v1+output": {
       "addedWidgets": {},
       "arguments": {},
       "data": "<div class=\"ansiout\">+----+-----+------------------+\n|year|month|     avg(AdjClose)|\n+----+-----+------------------+\n|2019|    7|1964.6846265384618|\n|2019|    8|1793.6027220909093|\n|2019|    9|     1799.12099615|\n|2019|   10|1752.3317498695653|\n|2019|   11|      1774.2939941|\n|2019|   12|1785.7728446190476|\n|2020|    1|1884.2376128571425|\n|2020|    2|2066.1752672631574|\n|2020|    3|1872.3104358636365|\n|2020|    4|2228.7052408571426|\n|2020|    5|2394.1840209499996|\n|2020|    6|      2613.5454545|\n|2020|    7| 3053.100016222222|\n+----+-----+------------------+\n\n</div>",
       "datasetInfos": [],
       "removedWidgets": [],
       "type": "html"
      }
     },
     "output_type": "display_data"
    }
   ],
   "source": [
    "# Compute the average closing price per month for apc\n",
    "# stocksDF.select(year($\"dt\").alias(\"yr\"),month($\"dt\").alias(\"mo\"), $\"adjcloseprice\")\n",
    "# .groupBy(\"yr\",\"mo\").agg(avg(\"adjcloseprice\")).orderBy(desc(\"yr\"),desc(\"mo\")).show\n",
    "amazon_df.select(year(\"Date\").alias(\"year\"),\n",
    "                month(\"Date\").alias(\"month\"),\n",
    "                \"AdjClose\").groupby(\"year\", \"month\").avg(\"AdjClose\").sort(\"year\", \"month\").show()"
   ]
  },
  {
   "cell_type": "code",
   "execution_count": 0,
   "metadata": {
    "application/vnd.databricks.v1+cell": {
     "inputWidgets": {},
     "nuid": "5d74dbe4-f606-4c03-be30-c38559a8bcac",
     "showTitle": false,
     "title": ""
    }
   },
   "outputs": [
    {
     "data": {
      "text/html": [
       "<style scoped>\n",
       "  .ansiout {\n",
       "    display: block;\n",
       "    unicode-bidi: embed;\n",
       "    white-space: pre-wrap;\n",
       "    word-wrap: break-word;\n",
       "    word-break: break-all;\n",
       "    font-family: \"Source Code Pro\", \"Menlo\", monospace;;\n",
       "    font-size: 13px;\n",
       "    color: #555;\n",
       "    margin-left: 4px;\n",
       "    line-height: 19px;\n",
       "  }\n",
       "</style>\n",
       "<div class=\"ansiout\"></div>"
      ]
     },
     "metadata": {
      "application/vnd.databricks.v1+output": {
       "addedWidgets": {},
       "arguments": {},
       "data": "<div class=\"ansiout\"></div>",
       "datasetInfos": [],
       "removedWidgets": [],
       "type": "html"
      }
     },
     "output_type": "display_data"
    }
   ],
   "source": [
    "# Register the DataFrames as temp views\n",
    "amazon_df.registerTempTable(\"amazon_stocks\")\n",
    "google_df.registerTempTable(\"google_stocks\")\n",
    "tesla_df.registerTempTable(\"tesla_stocks\")"
   ]
  },
  {
   "cell_type": "code",
   "execution_count": 0,
   "metadata": {
    "application/vnd.databricks.v1+cell": {
     "inputWidgets": {},
     "nuid": "4d16eec3-13b7-45e2-a5a4-6ea01f869a9c",
     "showTitle": false,
     "title": ""
    }
   },
   "outputs": [
    {
     "data": {
      "text/html": [
       "<style scoped>\n",
       "  .ansiout {\n",
       "    display: block;\n",
       "    unicode-bidi: embed;\n",
       "    white-space: pre-wrap;\n",
       "    word-wrap: break-word;\n",
       "    word-break: break-all;\n",
       "    font-family: \"Source Code Pro\", \"Menlo\", monospace;;\n",
       "    font-size: 13px;\n",
       "    color: #555;\n",
       "    margin-left: 4px;\n",
       "    line-height: 19px;\n",
       "  }\n",
       "</style>\n",
       "<div class=\"ansiout\">+----------+-----------+-----------+-----------+-----------+-----------+-------+\n",
       "      Date|       Open|       High|        Low|      Close|   AdjClose| Volume|\n",
       "+----------+-----------+-----------+-----------+-----------+-----------+-------+\n",
       "2019-07-15|2021.400024|2022.900024|2001.550049| 2020.98999| 2020.98999|2981300|\n",
       "2019-07-16|2010.579956|2026.319946|2001.219971|2009.900024|2009.900024|2618200|\n",
       "2019-07-17|2007.050049|     2012.0|1992.030029|1992.030029|1992.030029|2558800|\n",
       "2019-07-18| 1980.01001|     1987.5|1951.550049|1977.900024|1977.900024|3504300|\n",
       "2019-07-19|1991.209961|     1996.0| 1962.22998| 1964.52002| 1964.52002|3185600|\n",
       "+----------+-----------+-----------+-----------+-----------+-----------+-------+\n",
       "only showing top 5 rows\n",
       "\n",
       "</div>"
      ]
     },
     "metadata": {
      "application/vnd.databricks.v1+output": {
       "addedWidgets": {},
       "arguments": {},
       "data": "<div class=\"ansiout\">+----------+-----------+-----------+-----------+-----------+-----------+-------+\n|      Date|       Open|       High|        Low|      Close|   AdjClose| Volume|\n+----------+-----------+-----------+-----------+-----------+-----------+-------+\n|2019-07-15|2021.400024|2022.900024|2001.550049| 2020.98999| 2020.98999|2981300|\n|2019-07-16|2010.579956|2026.319946|2001.219971|2009.900024|2009.900024|2618200|\n|2019-07-17|2007.050049|     2012.0|1992.030029|1992.030029|1992.030029|2558800|\n|2019-07-18| 1980.01001|     1987.5|1951.550049|1977.900024|1977.900024|3504300|\n|2019-07-19|1991.209961|     1996.0| 1962.22998| 1964.52002| 1964.52002|3185600|\n+----------+-----------+-----------+-----------+-----------+-----------+-------+\nonly showing top 5 rows\n\n</div>",
       "datasetInfos": [],
       "removedWidgets": [],
       "type": "html"
      }
     },
     "output_type": "display_data"
    }
   ],
   "source": [
    "# Query entry\n",
    "sqlContext.sql(\"SELECT * FROM amazon_stocks\").show(5)"
   ]
  },
  {
   "cell_type": "code",
   "execution_count": 0,
   "metadata": {
    "application/vnd.databricks.v1+cell": {
     "inputWidgets": {},
     "nuid": "7f4ca3d9-f5b9-433d-87a3-37a2bed15ccf",
     "showTitle": false,
     "title": ""
    }
   },
   "outputs": [
    {
     "data": {
      "text/html": [
       "<style scoped>\n",
       "  .ansiout {\n",
       "    display: block;\n",
       "    unicode-bidi: embed;\n",
       "    white-space: pre-wrap;\n",
       "    word-wrap: break-word;\n",
       "    word-break: break-all;\n",
       "    font-family: \"Source Code Pro\", \"Menlo\", monospace;;\n",
       "    font-size: 13px;\n",
       "    color: #555;\n",
       "    margin-left: 4px;\n",
       "    line-height: 19px;\n",
       "  }\n",
       "</style>\n",
       "<div class=\"ansiout\">+----+---+------------------+\n",
       "  yr| mo|     avg(AdjClose)|\n",
       "+----+---+------------------+\n",
       "2019| 10|1752.3317498695653|\n",
       "2020|  6|      2613.5454545|\n",
       "2020|  3|1872.3104358636365|\n",
       "2019|  8|1793.6027220909093|\n",
       "2020|  4|2228.7052408571426|\n",
       "2020|  1|1884.2376128571425|\n",
       "2019|  9|     1799.12099615|\n",
       "2019| 12|1785.7728446190476|\n",
       "2020|  7| 3053.100016222222|\n",
       "2020|  2|2066.1752672631574|\n",
       "2019|  7|1964.6846265384618|\n",
       "2019| 11|      1774.2939941|\n",
       "2020|  5|2394.1840209499996|\n",
       "+----+---+------------------+\n",
       "\n",
       "</div>"
      ]
     },
     "metadata": {
      "application/vnd.databricks.v1+output": {
       "addedWidgets": {},
       "arguments": {},
       "data": "<div class=\"ansiout\">+----+---+------------------+\n|  yr| mo|     avg(AdjClose)|\n+----+---+------------------+\n|2019| 10|1752.3317498695653|\n|2020|  6|      2613.5454545|\n|2020|  3|1872.3104358636365|\n|2019|  8|1793.6027220909093|\n|2020|  4|2228.7052408571426|\n|2020|  1|1884.2376128571425|\n|2019|  9|     1799.12099615|\n|2019| 12|1785.7728446190476|\n|2020|  7| 3053.100016222222|\n|2020|  2|2066.1752672631574|\n|2019|  7|1964.6846265384618|\n|2019| 11|      1774.2939941|\n|2020|  5|2394.1840209499996|\n+----+---+------------------+\n\n</div>",
       "datasetInfos": [],
       "removedWidgets": [],
       "type": "html"
      }
     },
     "output_type": "display_data"
    }
   ],
   "source": [
    "# Calculate and display the average closing price per month for XOM ordered by year,month \n",
    "sqlContext.sql(\"\"\"SELECT year(amazon_stocks.Date) as yr, month(amazon_stocks.Date) as mo, avg(amazon_stocks.AdjClose) from amazon_stocks group By year(amazon_stocks.Date), month(amazon_stocks.Date)\"\"\").show()"
   ]
  },
  {
   "cell_type": "code",
   "execution_count": 0,
   "metadata": {
    "application/vnd.databricks.v1+cell": {
     "inputWidgets": {},
     "nuid": "d33191bd-f178-4721-9dee-b6b22814d6ea",
     "showTitle": false,
     "title": ""
    }
   },
   "outputs": [
    {
     "data": {
      "text/html": [
       "<style scoped>\n",
       "  .ansiout {\n",
       "    display: block;\n",
       "    unicode-bidi: embed;\n",
       "    white-space: pre-wrap;\n",
       "    word-wrap: break-word;\n",
       "    word-break: break-all;\n",
       "    font-family: \"Source Code Pro\", \"Menlo\", monospace;;\n",
       "    font-size: 13px;\n",
       "    color: #555;\n",
       "    margin-left: 4px;\n",
       "    line-height: 19px;\n",
       "  }\n",
       "</style>\n",
       "<div class=\"ansiout\">+----------+-----------+-----------+------------------+\n",
       "      Date|       Open|      Close|            spydif|\n",
       "+----------+-----------+-----------+------------------+\n",
       "2019-07-16|     1146.0|1153.579956| 7.579956000000038|\n",
       "2019-07-17|1150.969971|1146.349976| 4.619995000000017|\n",
       "2019-07-18| 1141.73999|1146.329956| 4.589966000000004|\n",
       "2019-07-19|1148.189941|1130.099976| 18.08996500000012|\n",
       "2019-07-22|1133.449951|1138.069946| 4.619995000000017|\n",
       "2019-07-24|1131.900024|1137.810059|  5.91003499999988|\n",
       "2019-07-25|1137.819946|1132.119995|5.6999510000000555|\n",
       "2019-07-26|1224.040039|1250.410034|26.369995000000017|\n",
       "2019-07-31|     1223.0|1216.680054| 6.319946000000073|\n",
       "2019-08-01|1214.030029| 1209.01001|5.0200190000000475|\n",
       "2019-08-02| 1200.73999| 1193.98999|              6.75|\n",
       "2019-08-05|1170.040039|1152.319946|17.720092999999906|\n",
       "2019-08-06|1163.310059|1169.949951| 6.639892000000145|\n",
       "2019-08-07|     1156.0| 1173.98999|17.989990000000034|\n",
       "2019-08-08|1182.829956|1204.800049|21.970092999999906|\n",
       "2019-08-09| 1197.98999| 1188.01001| 9.979980000000069|\n",
       "2019-08-12|1179.209961|1174.709961|               4.5|\n",
       "2019-08-13|1171.459961| 1197.27002| 25.81005899999991|\n",
       "2019-08-14|1176.310059|1164.290039|12.020019999999931|\n",
       "2019-08-19|1190.089966|1198.449951| 8.359985000000052|\n",
       "+----------+-----------+-----------+------------------+\n",
       "only showing top 20 rows\n",
       "\n",
       "</div>"
      ]
     },
     "metadata": {
      "application/vnd.databricks.v1+output": {
       "addedWidgets": {},
       "arguments": {},
       "data": "<div class=\"ansiout\">+----------+-----------+-----------+------------------+\n|      Date|       Open|      Close|            spydif|\n+----------+-----------+-----------+------------------+\n|2019-07-16|     1146.0|1153.579956| 7.579956000000038|\n|2019-07-17|1150.969971|1146.349976| 4.619995000000017|\n|2019-07-18| 1141.73999|1146.329956| 4.589966000000004|\n|2019-07-19|1148.189941|1130.099976| 18.08996500000012|\n|2019-07-22|1133.449951|1138.069946| 4.619995000000017|\n|2019-07-24|1131.900024|1137.810059|  5.91003499999988|\n|2019-07-25|1137.819946|1132.119995|5.6999510000000555|\n|2019-07-26|1224.040039|1250.410034|26.369995000000017|\n|2019-07-31|     1223.0|1216.680054| 6.319946000000073|\n|2019-08-01|1214.030029| 1209.01001|5.0200190000000475|\n|2019-08-02| 1200.73999| 1193.98999|              6.75|\n|2019-08-05|1170.040039|1152.319946|17.720092999999906|\n|2019-08-06|1163.310059|1169.949951| 6.639892000000145|\n|2019-08-07|     1156.0| 1173.98999|17.989990000000034|\n|2019-08-08|1182.829956|1204.800049|21.970092999999906|\n|2019-08-09| 1197.98999| 1188.01001| 9.979980000000069|\n|2019-08-12|1179.209961|1174.709961|               4.5|\n|2019-08-13|1171.459961| 1197.27002| 25.81005899999991|\n|2019-08-14|1176.310059|1164.290039|12.020019999999931|\n|2019-08-19|1190.089966|1198.449951| 8.359985000000052|\n+----------+-----------+-----------+------------------+\nonly showing top 20 rows\n\n</div>",
       "datasetInfos": [],
       "removedWidgets": [],
       "type": "html"
      }
     },
     "output_type": "display_data"
    }
   ],
   "source": [
    "# When did the closing price for SPY go up or down by more than 2 dollars?\n",
    "sqlContext.sql(\"SELECT google_stocks.Date, google_stocks.Open, google_stocks.Close, abs(google_stocks.Close - google_stocks.Open) as spydif FROM google_stocks WHERE abs(google_stocks.Close - google_stocks.Open) > 4 \").show()"
   ]
  },
  {
   "cell_type": "code",
   "execution_count": 0,
   "metadata": {
    "application/vnd.databricks.v1+cell": {
     "inputWidgets": {},
     "nuid": "6cf6aaae-a61e-41ca-a1f7-d80d79f3edfd",
     "showTitle": false,
     "title": ""
    }
   },
   "outputs": [
    {
     "data": {
      "text/html": [
       "<style scoped>\n",
       "  .ansiout {\n",
       "    display: block;\n",
       "    unicode-bidi: embed;\n",
       "    white-space: pre-wrap;\n",
       "    word-wrap: break-word;\n",
       "    word-break: break-all;\n",
       "    font-family: \"Source Code Pro\", \"Menlo\", monospace;;\n",
       "    font-size: 13px;\n",
       "    color: #555;\n",
       "    margin-left: 4px;\n",
       "    line-height: 19px;\n",
       "  }\n",
       "</style>\n",
       "<div class=\"ansiout\">+----+-------------+-------------+\n",
       "  yr|max(AdjClose)|min(AdjClose)|\n",
       "+----+-------------+-------------+\n",
       "2019|   430.940002|   211.399994|\n",
       "2020|  1544.650024|   361.220001|\n",
       "+----+-------------+-------------+\n",
       "\n",
       "</div>"
      ]
     },
     "metadata": {
      "application/vnd.databricks.v1+output": {
       "addedWidgets": {},
       "arguments": {},
       "data": "<div class=\"ansiout\">+----+-------------+-------------+\n|  yr|max(AdjClose)|min(AdjClose)|\n+----+-------------+-------------+\n|2019|   430.940002|   211.399994|\n|2020|  1544.650024|   361.220001|\n+----+-------------+-------------+\n\n</div>",
       "datasetInfos": [],
       "removedWidgets": [],
       "type": "html"
      }
     },
     "output_type": "display_data"
    }
   ],
   "source": [
    "# What was the max, min closing price for SPY and XOM by Year?</font> \n",
    "sqlContext.sql(\"SELECT year(tesla_stocks.Date) as yr, max(tesla_stocks.AdjClose), min(tesla_stocks.AdjClose) FROM tesla_stocks group By year(tesla_stocks.Date)\").show()"
   ]
  },
  {
   "cell_type": "code",
   "execution_count": 0,
   "metadata": {
    "application/vnd.databricks.v1+cell": {
     "inputWidgets": {},
     "nuid": "997e35d2-2d9c-4500-b376-f8c4db889fa5",
     "showTitle": false,
     "title": ""
    }
   },
   "outputs": [
    {
     "data": {
      "text/html": [
       "<style scoped>\n",
       "  .ansiout {\n",
       "    display: block;\n",
       "    unicode-bidi: embed;\n",
       "    white-space: pre-wrap;\n",
       "    word-wrap: break-word;\n",
       "    word-break: break-all;\n",
       "    font-family: \"Source Code Pro\", \"Menlo\", monospace;;\n",
       "    font-size: 13px;\n",
       "    color: #555;\n",
       "    margin-left: 4px;\n",
       "    line-height: 19px;\n",
       "  }\n",
       "</style>\n",
       "<div class=\"ansiout\">== Physical Plan ==\n",
       "AdaptiveSparkPlan isFinalPlan=false\n",
       "+- HashAggregate(keys=[year(cast(Date#2392 as date))#2881], functions=[finalmerge_max(merge max#2878) AS max(AdjClose#2397)#2869, finalmerge_min(merge min#2880) AS min(AdjClose#2397)#2870])\n",
       "   +- Exchange hashpartitioning(year(cast(Date#2392 as date))#2881, 200), true, [id=#1648]\n",
       "      +- HashAggregate(keys=[year(cast(Date#2392 as date)) AS year(cast(Date#2392 as date))#2881], functions=[partial_max(AdjClose#2397) AS max#2878, partial_min(AdjClose#2397) AS min#2880])\n",
       "         +- FileScan csv [Date#2392,AdjClose#2397] Batched: false, DataFilters: [], Format: CSV, Location: InMemoryFileIndex[dbfs:/FileStore/tables/TSLA.csv], PartitionFilters: [], PushedFilters: [], ReadSchema: struct&lt;Date:string,AdjClose:double&gt;\n",
       "\n",
       "\n",
       "</div>"
      ]
     },
     "metadata": {
      "application/vnd.databricks.v1+output": {
       "addedWidgets": {},
       "arguments": {},
       "data": "<div class=\"ansiout\">== Physical Plan ==\nAdaptiveSparkPlan isFinalPlan=false\n+- HashAggregate(keys=[year(cast(Date#2392 as date))#2881], functions=[finalmerge_max(merge max#2878) AS max(AdjClose#2397)#2869, finalmerge_min(merge min#2880) AS min(AdjClose#2397)#2870])\n   +- Exchange hashpartitioning(year(cast(Date#2392 as date))#2881, 200), true, [id=#1648]\n      +- HashAggregate(keys=[year(cast(Date#2392 as date)) AS year(cast(Date#2392 as date))#2881], functions=[partial_max(AdjClose#2397) AS max#2878, partial_min(AdjClose#2397) AS min#2880])\n         +- FileScan csv [Date#2392,AdjClose#2397] Batched: false, DataFilters: [], Format: CSV, Location: InMemoryFileIndex[dbfs:/FileStore/tables/TSLA.csv], PartitionFilters: [], PushedFilters: [], ReadSchema: struct&lt;Date:string,AdjClose:double&gt;\n\n\n</div>",
       "datasetInfos": [],
       "removedWidgets": [],
       "type": "html"
      }
     },
     "output_type": "display_data"
    }
   ],
   "source": [
    "# Check physical plan\n",
    "sqlContext.sql(\"SELECT year(tesla_stocks.Date) as yr, max(tesla_stocks.AdjClose), min(tesla_stocks.AdjClose) FROM tesla_stocks group By year(tesla_stocks.Date)\").explain()"
   ]
  },
  {
   "cell_type": "code",
   "execution_count": 0,
   "metadata": {
    "application/vnd.databricks.v1+cell": {
     "inputWidgets": {},
     "nuid": "659c39ec-36dd-422d-9f97-59841691ca1b",
     "showTitle": false,
     "title": ""
    }
   },
   "outputs": [
    {
     "data": {
      "text/html": [
       "<style scoped>\n",
       "  .ansiout {\n",
       "    display: block;\n",
       "    unicode-bidi: embed;\n",
       "    white-space: pre-wrap;\n",
       "    word-wrap: break-word;\n",
       "    word-break: break-all;\n",
       "    font-family: \"Source Code Pro\", \"Menlo\", monospace;;\n",
       "    font-size: 13px;\n",
       "    color: #555;\n",
       "    margin-left: 4px;\n",
       "    line-height: 19px;\n",
       "  }\n",
       "</style>\n",
       "<div class=\"ansiout\">+----------+----------+-----------+-----------+\n",
       "      Date|teslaclose|amazonclose|googleclose|\n",
       "+----------+----------+-----------+-----------+\n",
       "2019-07-15|     253.5| 2020.98999|1150.339966|\n",
       "2019-07-16|252.380005|2009.900024|1153.579956|\n",
       "2019-07-17|254.860001|1992.030029|1146.349976|\n",
       "2019-07-18|253.539993|1977.900024|1146.329956|\n",
       "2019-07-19|258.179993| 1964.52002|1130.099976|\n",
       "2019-07-22|255.679993|1985.630005|1138.069946|\n",
       "2019-07-23|260.170013| 1994.48999|1146.209961|\n",
       "2019-07-24|264.880005|2000.810059|1137.810059|\n",
       "2019-07-25|228.820007|1973.819946|1132.119995|\n",
       "2019-07-26|228.039993|1943.050049|1250.410034|\n",
       "2019-07-29|235.770004|1912.449951|1239.410034|\n",
       "2019-07-30|242.259995|1898.530029|1225.140015|\n",
       "2019-07-31|241.610001|1866.780029|1216.680054|\n",
       "2019-08-01|233.850006|1855.319946| 1209.01001|\n",
       "2019-08-02|234.339996| 1823.23999| 1193.98999|\n",
       "2019-08-05|228.320007|1765.130005|1152.319946|\n",
       "2019-08-06|    230.75|1787.829956|1169.949951|\n",
       "2019-08-07|233.419998|1793.400024| 1173.98999|\n",
       "2019-08-08|238.300003|1832.890015|1204.800049|\n",
       "2019-08-09|235.009995|1807.579956| 1188.01001|\n",
       "+----------+----------+-----------+-----------+\n",
       "only showing top 20 rows\n",
       "\n",
       "</div>"
      ]
     },
     "metadata": {
      "application/vnd.databricks.v1+output": {
       "addedWidgets": {},
       "arguments": {},
       "data": "<div class=\"ansiout\">+----------+----------+-----------+-----------+\n|      Date|teslaclose|amazonclose|googleclose|\n+----------+----------+-----------+-----------+\n|2019-07-15|     253.5| 2020.98999|1150.339966|\n|2019-07-16|252.380005|2009.900024|1153.579956|\n|2019-07-17|254.860001|1992.030029|1146.349976|\n|2019-07-18|253.539993|1977.900024|1146.329956|\n|2019-07-19|258.179993| 1964.52002|1130.099976|\n|2019-07-22|255.679993|1985.630005|1138.069946|\n|2019-07-23|260.170013| 1994.48999|1146.209961|\n|2019-07-24|264.880005|2000.810059|1137.810059|\n|2019-07-25|228.820007|1973.819946|1132.119995|\n|2019-07-26|228.039993|1943.050049|1250.410034|\n|2019-07-29|235.770004|1912.449951|1239.410034|\n|2019-07-30|242.259995|1898.530029|1225.140015|\n|2019-07-31|241.610001|1866.780029|1216.680054|\n|2019-08-01|233.850006|1855.319946| 1209.01001|\n|2019-08-02|234.339996| 1823.23999| 1193.98999|\n|2019-08-05|228.320007|1765.130005|1152.319946|\n|2019-08-06|    230.75|1787.829956|1169.949951|\n|2019-08-07|233.419998|1793.400024| 1173.98999|\n|2019-08-08|238.300003|1832.890015|1204.800049|\n|2019-08-09|235.009995|1807.579956| 1188.01001|\n+----------+----------+-----------+-----------+\nonly showing top 20 rows\n\n</div>",
       "datasetInfos": [],
       "removedWidgets": [],
       "type": "html"
      }
     },
     "output_type": "display_data"
    }
   ],
   "source": [
    "# Join all stock closing prices in order to compare\n",
    "joinclose=sqlContext.sql(\"SELECT tesla_stocks.Date, tesla_stocks.AdjClose as teslaclose, amazon_stocks.AdjClose as amazonclose, google_stocks.AdjClose as googleclose from tesla_stocks join google_stocks on tesla_stocks.Date = google_stocks.Date join amazon_stocks on tesla_stocks.Date = amazon_stocks.Date\").cache()\n",
    "\n",
    "# Show data frame\n",
    "joinclose.show()\n",
    "\n",
    "# Create temporary table\n",
    "joinclose.registerTempTable(\"joinclose\")"
   ]
  },
  {
   "cell_type": "code",
   "execution_count": 0,
   "metadata": {
    "application/vnd.databricks.v1+cell": {
     "inputWidgets": {},
     "nuid": "9240ee03-350d-4d06-abd4-31cfa0938930",
     "showTitle": false,
     "title": ""
    }
   },
   "outputs": [
    {
     "data": {
      "text/html": [
       "<style scoped>\n",
       "  .ansiout {\n",
       "    display: block;\n",
       "    unicode-bidi: embed;\n",
       "    white-space: pre-wrap;\n",
       "    word-wrap: break-word;\n",
       "    word-break: break-all;\n",
       "    font-family: \"Source Code Pro\", \"Menlo\", monospace;;\n",
       "    font-size: 13px;\n",
       "    color: #555;\n",
       "    margin-left: 4px;\n",
       "    line-height: 19px;\n",
       "  }\n",
       "</style>\n",
       "<div class=\"ansiout\">+----+------------------+------------------+------------------+\n",
       "  yr|        teslaclose|       amazonclose|       googleclose|\n",
       "+----+------------------+------------------+------------------+\n",
       "2019|283.62126070588243|1800.6161329411755|1245.3833654621849|\n",
       "2020| 761.8206739179104| 2236.414478798507|1362.8286906865671|\n",
       "+----+------------------+------------------+------------------+\n",
       "\n",
       "</div>"
      ]
     },
     "metadata": {
      "application/vnd.databricks.v1+output": {
       "addedWidgets": {},
       "arguments": {},
       "data": "<div class=\"ansiout\">+----+------------------+------------------+------------------+\n|  yr|        teslaclose|       amazonclose|       googleclose|\n+----+------------------+------------------+------------------+\n|2019|283.62126070588243|1800.6161329411755|1245.3833654621849|\n|2020| 761.8206739179104| 2236.414478798507|1362.8286906865671|\n+----+------------------+------------------+------------------+\n\n</div>",
       "datasetInfos": [],
       "removedWidgets": [],
       "type": "html"
      }
     },
     "output_type": "display_data"
    }
   ],
   "source": [
    "# Check average close price by year\n",
    "sqlContext.sql(\"SELECT year(joinclose.Date) as yr, avg(joinclose.teslaclose) as teslaclose, avg(joinclose.amazonclose) as amazonclose, avg(joinclose.googleclose) as googleclose from joinclose group By year(joinclose.Date) order by year(joinclose.Date)\").show()"
   ]
  },
  {
   "cell_type": "code",
   "execution_count": 0,
   "metadata": {
    "application/vnd.databricks.v1+cell": {
     "inputWidgets": {},
     "nuid": "03c32470-e156-4843-bfa4-51fdda03556b",
     "showTitle": false,
     "title": ""
    }
   },
   "outputs": [
    {
     "data": {
      "text/html": [
       "<style scoped>\n",
       "  .ansiout {\n",
       "    display: block;\n",
       "    unicode-bidi: embed;\n",
       "    white-space: pre-wrap;\n",
       "    word-wrap: break-word;\n",
       "    word-break: break-all;\n",
       "    font-family: \"Source Code Pro\", \"Menlo\", monospace;;\n",
       "    font-size: 13px;\n",
       "    color: #555;\n",
       "    margin-left: 4px;\n",
       "    line-height: 19px;\n",
       "  }\n",
       "</style>\n",
       "<div class=\"ansiout\"></div>"
      ]
     },
     "metadata": {
      "application/vnd.databricks.v1+output": {
       "addedWidgets": {},
       "arguments": {},
       "data": "<div class=\"ansiout\"></div>",
       "datasetInfos": [],
       "removedWidgets": [],
       "type": "html"
      }
     },
     "output_type": "display_data"
    },
    {
     "data": {
      "text/html": [
       "<style scoped>\n",
       "  .ansiout {\n",
       "    display: block;\n",
       "    unicode-bidi: embed;\n",
       "    white-space: pre-wrap;\n",
       "    word-wrap: break-word;\n",
       "    word-break: break-all;\n",
       "    font-family: \"Source Code Pro\", \"Menlo\", monospace;;\n",
       "    font-size: 13px;\n",
       "    color: #555;\n",
       "    margin-left: 4px;\n",
       "    line-height: 19px;\n",
       "  }\n",
       "</style>\n",
       "<div class=\"ansiout\"><span class=\"ansi-red-fg\">---------------------------------------------------------------------------</span>\n",
       "<span class=\"ansi-red-fg\">AnalysisException</span>                         Traceback (most recent call last)\n",
       "<span class=\"ansi-green-fg\">&lt;command-4172418881314532&gt;</span> in <span class=\"ansi-cyan-fg\">&lt;module&gt;</span>\n",
       "<span class=\"ansi-green-intense-fg ansi-bold\">      1</span> <span class=\"ansi-red-fg\"># Save as parquet file</span>\n",
       "<span class=\"ansi-green-fg\">----&gt; 2</span><span class=\"ansi-red-fg\"> </span>joinclose<span class=\"ansi-blue-fg\">.</span>write<span class=\"ansi-blue-fg\">.</span>format<span class=\"ansi-blue-fg\">(</span><span class=\"ansi-blue-fg\">&#34;parquet&#34;</span><span class=\"ansi-blue-fg\">)</span><span class=\"ansi-blue-fg\">.</span>save<span class=\"ansi-blue-fg\">(</span><span class=\"ansi-blue-fg\">&#34;joinstocks.parquet&#34;</span><span class=\"ansi-blue-fg\">)</span>\n",
       "\n",
       "<span class=\"ansi-green-fg\">/databricks/spark/python/pyspark/sql/readwriter.py</span> in <span class=\"ansi-cyan-fg\">save</span><span class=\"ansi-blue-fg\">(self, path, format, mode, partitionBy, **options)</span>\n",
       "<span class=\"ansi-green-intense-fg ansi-bold\">    828</span>             self<span class=\"ansi-blue-fg\">.</span>_jwrite<span class=\"ansi-blue-fg\">.</span>save<span class=\"ansi-blue-fg\">(</span><span class=\"ansi-blue-fg\">)</span>\n",
       "<span class=\"ansi-green-intense-fg ansi-bold\">    829</span>         <span class=\"ansi-green-fg\">else</span><span class=\"ansi-blue-fg\">:</span>\n",
       "<span class=\"ansi-green-fg\">--&gt; 830</span><span class=\"ansi-red-fg\">             </span>self<span class=\"ansi-blue-fg\">.</span>_jwrite<span class=\"ansi-blue-fg\">.</span>save<span class=\"ansi-blue-fg\">(</span>path<span class=\"ansi-blue-fg\">)</span>\n",
       "<span class=\"ansi-green-intense-fg ansi-bold\">    831</span> \n",
       "<span class=\"ansi-green-intense-fg ansi-bold\">    832</span>     <span class=\"ansi-blue-fg\">@</span>since<span class=\"ansi-blue-fg\">(</span><span class=\"ansi-cyan-fg\">1.4</span><span class=\"ansi-blue-fg\">)</span>\n",
       "\n",
       "<span class=\"ansi-green-fg\">/databricks/spark/python/lib/py4j-0.10.9-src.zip/py4j/java_gateway.py</span> in <span class=\"ansi-cyan-fg\">__call__</span><span class=\"ansi-blue-fg\">(self, *args)</span>\n",
       "<span class=\"ansi-green-intense-fg ansi-bold\">   1303</span>         answer <span class=\"ansi-blue-fg\">=</span> self<span class=\"ansi-blue-fg\">.</span>gateway_client<span class=\"ansi-blue-fg\">.</span>send_command<span class=\"ansi-blue-fg\">(</span>command<span class=\"ansi-blue-fg\">)</span>\n",
       "<span class=\"ansi-green-intense-fg ansi-bold\">   1304</span>         return_value = get_return_value(\n",
       "<span class=\"ansi-green-fg\">-&gt; 1305</span><span class=\"ansi-red-fg\">             answer, self.gateway_client, self.target_id, self.name)\n",
       "</span><span class=\"ansi-green-intense-fg ansi-bold\">   1306</span> \n",
       "<span class=\"ansi-green-intense-fg ansi-bold\">   1307</span>         <span class=\"ansi-green-fg\">for</span> temp_arg <span class=\"ansi-green-fg\">in</span> temp_args<span class=\"ansi-blue-fg\">:</span>\n",
       "\n",
       "<span class=\"ansi-green-fg\">/databricks/spark/python/pyspark/sql/utils.py</span> in <span class=\"ansi-cyan-fg\">deco</span><span class=\"ansi-blue-fg\">(*a, **kw)</span>\n",
       "<span class=\"ansi-green-intense-fg ansi-bold\">    131</span>                 <span class=\"ansi-red-fg\"># Hide where the exception came from that shows a non-Pythonic</span>\n",
       "<span class=\"ansi-green-intense-fg ansi-bold\">    132</span>                 <span class=\"ansi-red-fg\"># JVM exception message.</span>\n",
       "<span class=\"ansi-green-fg\">--&gt; 133</span><span class=\"ansi-red-fg\">                 </span>raise_from<span class=\"ansi-blue-fg\">(</span>converted<span class=\"ansi-blue-fg\">)</span>\n",
       "<span class=\"ansi-green-intense-fg ansi-bold\">    134</span>             <span class=\"ansi-green-fg\">else</span><span class=\"ansi-blue-fg\">:</span>\n",
       "<span class=\"ansi-green-intense-fg ansi-bold\">    135</span>                 <span class=\"ansi-green-fg\">raise</span>\n",
       "\n",
       "<span class=\"ansi-green-fg\">/databricks/spark/python/pyspark/sql/utils.py</span> in <span class=\"ansi-cyan-fg\">raise_from</span><span class=\"ansi-blue-fg\">(e)</span>\n",
       "\n",
       "<span class=\"ansi-red-fg\">AnalysisException</span>: path dbfs:/joinstocks.parquet already exists.;</div>"
      ]
     },
     "metadata": {
      "application/vnd.databricks.v1+output": {
       "arguments": {},
       "data": "<div class=\"ansiout\"><span class=\"ansi-red-fg\">---------------------------------------------------------------------------</span>\n<span class=\"ansi-red-fg\">AnalysisException</span>                         Traceback (most recent call last)\n<span class=\"ansi-green-fg\">&lt;command-4172418881314532&gt;</span> in <span class=\"ansi-cyan-fg\">&lt;module&gt;</span>\n<span class=\"ansi-green-intense-fg ansi-bold\">      1</span> <span class=\"ansi-red-fg\"># Save as parquet file</span>\n<span class=\"ansi-green-fg\">----&gt; 2</span><span class=\"ansi-red-fg\"> </span>joinclose<span class=\"ansi-blue-fg\">.</span>write<span class=\"ansi-blue-fg\">.</span>format<span class=\"ansi-blue-fg\">(</span><span class=\"ansi-blue-fg\">&#34;parquet&#34;</span><span class=\"ansi-blue-fg\">)</span><span class=\"ansi-blue-fg\">.</span>save<span class=\"ansi-blue-fg\">(</span><span class=\"ansi-blue-fg\">&#34;joinstocks.parquet&#34;</span><span class=\"ansi-blue-fg\">)</span>\n\n<span class=\"ansi-green-fg\">/databricks/spark/python/pyspark/sql/readwriter.py</span> in <span class=\"ansi-cyan-fg\">save</span><span class=\"ansi-blue-fg\">(self, path, format, mode, partitionBy, **options)</span>\n<span class=\"ansi-green-intense-fg ansi-bold\">    828</span>             self<span class=\"ansi-blue-fg\">.</span>_jwrite<span class=\"ansi-blue-fg\">.</span>save<span class=\"ansi-blue-fg\">(</span><span class=\"ansi-blue-fg\">)</span>\n<span class=\"ansi-green-intense-fg ansi-bold\">    829</span>         <span class=\"ansi-green-fg\">else</span><span class=\"ansi-blue-fg\">:</span>\n<span class=\"ansi-green-fg\">--&gt; 830</span><span class=\"ansi-red-fg\">             </span>self<span class=\"ansi-blue-fg\">.</span>_jwrite<span class=\"ansi-blue-fg\">.</span>save<span class=\"ansi-blue-fg\">(</span>path<span class=\"ansi-blue-fg\">)</span>\n<span class=\"ansi-green-intense-fg ansi-bold\">    831</span> \n<span class=\"ansi-green-intense-fg ansi-bold\">    832</span>     <span class=\"ansi-blue-fg\">@</span>since<span class=\"ansi-blue-fg\">(</span><span class=\"ansi-cyan-fg\">1.4</span><span class=\"ansi-blue-fg\">)</span>\n\n<span class=\"ansi-green-fg\">/databricks/spark/python/lib/py4j-0.10.9-src.zip/py4j/java_gateway.py</span> in <span class=\"ansi-cyan-fg\">__call__</span><span class=\"ansi-blue-fg\">(self, *args)</span>\n<span class=\"ansi-green-intense-fg ansi-bold\">   1303</span>         answer <span class=\"ansi-blue-fg\">=</span> self<span class=\"ansi-blue-fg\">.</span>gateway_client<span class=\"ansi-blue-fg\">.</span>send_command<span class=\"ansi-blue-fg\">(</span>command<span class=\"ansi-blue-fg\">)</span>\n<span class=\"ansi-green-intense-fg ansi-bold\">   1304</span>         return_value = get_return_value(\n<span class=\"ansi-green-fg\">-&gt; 1305</span><span class=\"ansi-red-fg\">             answer, self.gateway_client, self.target_id, self.name)\n</span><span class=\"ansi-green-intense-fg ansi-bold\">   1306</span> \n<span class=\"ansi-green-intense-fg ansi-bold\">   1307</span>         <span class=\"ansi-green-fg\">for</span> temp_arg <span class=\"ansi-green-fg\">in</span> temp_args<span class=\"ansi-blue-fg\">:</span>\n\n<span class=\"ansi-green-fg\">/databricks/spark/python/pyspark/sql/utils.py</span> in <span class=\"ansi-cyan-fg\">deco</span><span class=\"ansi-blue-fg\">(*a, **kw)</span>\n<span class=\"ansi-green-intense-fg ansi-bold\">    131</span>                 <span class=\"ansi-red-fg\"># Hide where the exception came from that shows a non-Pythonic</span>\n<span class=\"ansi-green-intense-fg ansi-bold\">    132</span>                 <span class=\"ansi-red-fg\"># JVM exception message.</span>\n<span class=\"ansi-green-fg\">--&gt; 133</span><span class=\"ansi-red-fg\">                 </span>raise_from<span class=\"ansi-blue-fg\">(</span>converted<span class=\"ansi-blue-fg\">)</span>\n<span class=\"ansi-green-intense-fg ansi-bold\">    134</span>             <span class=\"ansi-green-fg\">else</span><span class=\"ansi-blue-fg\">:</span>\n<span class=\"ansi-green-intense-fg ansi-bold\">    135</span>                 <span class=\"ansi-green-fg\">raise</span>\n\n<span class=\"ansi-green-fg\">/databricks/spark/python/pyspark/sql/utils.py</span> in <span class=\"ansi-cyan-fg\">raise_from</span><span class=\"ansi-blue-fg\">(e)</span>\n\n<span class=\"ansi-red-fg\">AnalysisException</span>: path dbfs:/joinstocks.parquet already exists.;</div>",
       "errorSummary": "<span class=\"ansi-red-fg\">AnalysisException</span>: path dbfs:/joinstocks.parquet already exists.;",
       "type": "ipynbError"
      }
     },
     "output_type": "display_data"
    }
   ],
   "source": [
    "# Save as parquet file\n",
    "joinclose.write.format(\"parquet\").save(\"joinstocks.parquet\")"
   ]
  },
  {
   "cell_type": "code",
   "execution_count": 0,
   "metadata": {
    "application/vnd.databricks.v1+cell": {
     "inputWidgets": {},
     "nuid": "09453cb3-437f-4c38-be72-a7b21f5e7ed3",
     "showTitle": false,
     "title": ""
    }
   },
   "outputs": [
    {
     "data": {
      "text/html": [
       "<style scoped>\n",
       "  .ansiout {\n",
       "    display: block;\n",
       "    unicode-bidi: embed;\n",
       "    white-space: pre-wrap;\n",
       "    word-wrap: break-word;\n",
       "    word-break: break-all;\n",
       "    font-family: \"Source Code Pro\", \"Menlo\", monospace;;\n",
       "    font-size: 13px;\n",
       "    color: #555;\n",
       "    margin-left: 4px;\n",
       "    line-height: 19px;\n",
       "  }\n",
       "</style>\n",
       "<div class=\"ansiout\">+----------+----------+-----------+-----------+\n",
       "      Date|teslaclose|amazonclose|googleclose|\n",
       "+----------+----------+-----------+-----------+\n",
       "2019-07-15|     253.5| 2020.98999|1150.339966|\n",
       "2019-07-16|252.380005|2009.900024|1153.579956|\n",
       "2019-07-17|254.860001|1992.030029|1146.349976|\n",
       "2019-07-18|253.539993|1977.900024|1146.329956|\n",
       "2019-07-19|258.179993| 1964.52002|1130.099976|\n",
       "2019-07-22|255.679993|1985.630005|1138.069946|\n",
       "2019-07-23|260.170013| 1994.48999|1146.209961|\n",
       "2019-07-24|264.880005|2000.810059|1137.810059|\n",
       "2019-07-25|228.820007|1973.819946|1132.119995|\n",
       "2019-07-26|228.039993|1943.050049|1250.410034|\n",
       "2019-07-29|235.770004|1912.449951|1239.410034|\n",
       "2019-07-30|242.259995|1898.530029|1225.140015|\n",
       "2019-07-31|241.610001|1866.780029|1216.680054|\n",
       "2019-08-01|233.850006|1855.319946| 1209.01001|\n",
       "2019-08-02|234.339996| 1823.23999| 1193.98999|\n",
       "2019-08-05|228.320007|1765.130005|1152.319946|\n",
       "2019-08-06|    230.75|1787.829956|1169.949951|\n",
       "2019-08-07|233.419998|1793.400024| 1173.98999|\n",
       "2019-08-08|238.300003|1832.890015|1204.800049|\n",
       "2019-08-09|235.009995|1807.579956| 1188.01001|\n",
       "+----------+----------+-----------+-----------+\n",
       "only showing top 20 rows\n",
       "\n",
       "</div>"
      ]
     },
     "metadata": {
      "application/vnd.databricks.v1+output": {
       "addedWidgets": {},
       "arguments": {},
       "data": "<div class=\"ansiout\">+----------+----------+-----------+-----------+\n|      Date|teslaclose|amazonclose|googleclose|\n+----------+----------+-----------+-----------+\n|2019-07-15|     253.5| 2020.98999|1150.339966|\n|2019-07-16|252.380005|2009.900024|1153.579956|\n|2019-07-17|254.860001|1992.030029|1146.349976|\n|2019-07-18|253.539993|1977.900024|1146.329956|\n|2019-07-19|258.179993| 1964.52002|1130.099976|\n|2019-07-22|255.679993|1985.630005|1138.069946|\n|2019-07-23|260.170013| 1994.48999|1146.209961|\n|2019-07-24|264.880005|2000.810059|1137.810059|\n|2019-07-25|228.820007|1973.819946|1132.119995|\n|2019-07-26|228.039993|1943.050049|1250.410034|\n|2019-07-29|235.770004|1912.449951|1239.410034|\n|2019-07-30|242.259995|1898.530029|1225.140015|\n|2019-07-31|241.610001|1866.780029|1216.680054|\n|2019-08-01|233.850006|1855.319946| 1209.01001|\n|2019-08-02|234.339996| 1823.23999| 1193.98999|\n|2019-08-05|228.320007|1765.130005|1152.319946|\n|2019-08-06|    230.75|1787.829956|1169.949951|\n|2019-08-07|233.419998|1793.400024| 1173.98999|\n|2019-08-08|238.300003|1832.890015|1204.800049|\n|2019-08-09|235.009995|1807.579956| 1188.01001|\n+----------+----------+-----------+-----------+\nonly showing top 20 rows\n\n</div>",
       "datasetInfos": [],
       "removedWidgets": [],
       "type": "html"
      }
     },
     "output_type": "display_data"
    }
   ],
   "source": [
    "# Import parquet file beck to data frame\n",
    "final_df = sqlContext.read.parquet(\"/joinstocks.parquet\")\n",
    "\n",
    "# Show data frame\n",
    "final_df.show()"
   ]
  },
  {
   "cell_type": "code",
   "execution_count": 0,
   "metadata": {
    "application/vnd.databricks.v1+cell": {
     "inputWidgets": {},
     "nuid": "80f70b56-5315-4c83-9fa9-af54c0fd19ef",
     "showTitle": false,
     "title": ""
    }
   },
   "outputs": [
    {
     "data": {
      "text/html": [
       "<style scoped>\n",
       "  .ansiout {\n",
       "    display: block;\n",
       "    unicode-bidi: embed;\n",
       "    white-space: pre-wrap;\n",
       "    word-wrap: break-word;\n",
       "    word-break: break-all;\n",
       "    font-family: \"Source Code Pro\", \"Menlo\", monospace;;\n",
       "    font-size: 13px;\n",
       "    color: #555;\n",
       "    margin-left: 4px;\n",
       "    line-height: 19px;\n",
       "  }\n",
       "</style>\n",
       "<div class=\"ansiout\">root\n",
       "-- Date: string (nullable = true)\n",
       "-- teslaclose: double (nullable = true)\n",
       "-- amazonclose: double (nullable = true)\n",
       "-- googleclose: double (nullable = true)\n",
       "\n",
       "</div>"
      ]
     },
     "metadata": {
      "application/vnd.databricks.v1+output": {
       "addedWidgets": {},
       "arguments": {},
       "data": "<div class=\"ansiout\">root\n |-- Date: string (nullable = true)\n |-- teslaclose: double (nullable = true)\n |-- amazonclose: double (nullable = true)\n |-- googleclose: double (nullable = true)\n\n</div>",
       "datasetInfos": [],
       "removedWidgets": [],
       "type": "html"
      }
     },
     "output_type": "display_data"
    }
   ],
   "source": [
    "# Check schema\n",
    "final_df.printSchema()"
   ]
  },
  {
   "cell_type": "code",
   "execution_count": 0,
   "metadata": {
    "application/vnd.databricks.v1+cell": {
     "inputWidgets": {},
     "nuid": "c937c517-5625-4778-804d-deac707fc3b0",
     "showTitle": false,
     "title": ""
    }
   },
   "outputs": [
    {
     "data": {
      "text/html": [
       "<style scoped>\n",
       "  .ansiout {\n",
       "    display: block;\n",
       "    unicode-bidi: embed;\n",
       "    white-space: pre-wrap;\n",
       "    word-wrap: break-word;\n",
       "    word-break: break-all;\n",
       "    font-family: \"Source Code Pro\", \"Menlo\", monospace;;\n",
       "    font-size: 13px;\n",
       "    color: #555;\n",
       "    margin-left: 4px;\n",
       "    line-height: 19px;\n",
       "  }\n",
       "</style>\n",
       "<div class=\"ansiout\">+----+-----+------------------+------------------+------------------+\n",
       "year|month|   avg(teslaclose)|  avg(amazonclose)|  avg(googleclose)|\n",
       "+----+-----+------------------+------------------+------------------+\n",
       "2019|    7|248.43769253846148|1964.6846265384618|1170.1961483076923|\n",
       "2019|    8|225.10272704545451|1793.6027220909093|1180.6868120454546|\n",
       "2019|    9|237.26149830000003|     1799.12099615|     1220.83952035|\n",
       "2019|   10| 266.3547840434783|1752.3317498695653|1232.7117442608696|\n",
       "2019|   11|338.30000000000007|      1774.2939941|     1304.27899165|\n",
       "2019|   12| 377.6947631904762|1785.7728446190476|1340.8676351904762|\n",
       "2020|    1| 528.6590503809524|1884.2376128571425|1436.6537968571424|\n",
       "2020|    2| 797.4468415263159|2066.1752672631574|1464.1105184736841|\n",
       "2020|    3| 559.1013613181818|1872.3104358636365|1188.3940984545457|\n",
       "2020|    4| 663.5985761428572|2228.7052408571426|1234.1404797142854|\n",
       "2020|    5|      799.42549745|2394.1840209499996|1381.1137511999998|\n",
       "2020|    6| 963.5422779545456|      2613.5454545|1431.0477184545452|\n",
       "2020|    7|1378.7111273333333| 3053.100016222222|1496.0299885555555|\n",
       "+----+-----+------------------+------------------+------------------+\n",
       "\n",
       "</div>"
      ]
     },
     "metadata": {
      "application/vnd.databricks.v1+output": {
       "addedWidgets": {},
       "arguments": {},
       "data": "<div class=\"ansiout\">+----+-----+------------------+------------------+------------------+\n|year|month|   avg(teslaclose)|  avg(amazonclose)|  avg(googleclose)|\n+----+-----+------------------+------------------+------------------+\n|2019|    7|248.43769253846148|1964.6846265384618|1170.1961483076923|\n|2019|    8|225.10272704545451|1793.6027220909093|1180.6868120454546|\n|2019|    9|237.26149830000003|     1799.12099615|     1220.83952035|\n|2019|   10| 266.3547840434783|1752.3317498695653|1232.7117442608696|\n|2019|   11|338.30000000000007|      1774.2939941|     1304.27899165|\n|2019|   12| 377.6947631904762|1785.7728446190476|1340.8676351904762|\n|2020|    1| 528.6590503809524|1884.2376128571425|1436.6537968571424|\n|2020|    2| 797.4468415263159|2066.1752672631574|1464.1105184736841|\n|2020|    3| 559.1013613181818|1872.3104358636365|1188.3940984545457|\n|2020|    4| 663.5985761428572|2228.7052408571426|1234.1404797142854|\n|2020|    5|      799.42549745|2394.1840209499996|1381.1137511999998|\n|2020|    6| 963.5422779545456|      2613.5454545|1431.0477184545452|\n|2020|    7|1378.7111273333333| 3053.100016222222|1496.0299885555555|\n+----+-----+------------------+------------------+------------------+\n\n</div>",
       "datasetInfos": [],
       "removedWidgets": [],
       "type": "html"
      }
     },
     "output_type": "display_data"
    }
   ],
   "source": [
    "# Average of each by month\n",
    "final_df.select(year(\"Date\").alias(\"year\"), \n",
    "                 month(\"Date\").alias(\"month\"), \n",
    "                 \"teslaclose\", \"amazonclose\", \n",
    "                 \"googleclose\").groupby(\"year\", \n",
    "                                        \"month\").avg(\"teslaclose\", \n",
    "                                                     \"amazonclose\", \n",
    "                                                     \"googleclose\").sort(\"year\", \n",
    "                                                                         \"month\").show()"
   ]
  },
  {
   "cell_type": "code",
   "execution_count": 0,
   "metadata": {
    "application/vnd.databricks.v1+cell": {
     "inputWidgets": {},
     "nuid": "388e3d98-6458-4d85-81af-74797edf439c",
     "showTitle": false,
     "title": ""
    }
   },
   "outputs": [
    {
     "data": {
      "text/html": [
       "<style scoped>\n",
       "  .ansiout {\n",
       "    display: block;\n",
       "    unicode-bidi: embed;\n",
       "    white-space: pre-wrap;\n",
       "    word-wrap: break-word;\n",
       "    word-break: break-all;\n",
       "    font-family: \"Source Code Pro\", \"Menlo\", monospace;;\n",
       "    font-size: 13px;\n",
       "    color: #555;\n",
       "    margin-left: 4px;\n",
       "    line-height: 19px;\n",
       "  }\n",
       "</style>\n",
       "<div class=\"ansiout\">== Physical Plan ==\n",
       "AdaptiveSparkPlan isFinalPlan=false\n",
       "+- Sort [year#3505 ASC NULLS FIRST, month#3506 ASC NULLS FIRST], true, 0\n",
       "   +- Exchange rangepartitioning(year#3505 ASC NULLS FIRST, month#3506 ASC NULLS FIRST, 200), true, [id=#2140]\n",
       "      +- HashAggregate(keys=[year#3505, month#3506], functions=[finalmerge_avg(merge sum#3530, count#3531L) AS avg(teslaclose#3323)#3517, finalmerge_avg(merge sum#3534, count#3535L) AS avg(amazonclose#3324)#3518, finalmerge_avg(merge sum#3538, count#3539L) AS avg(googleclose#3325)#3519])\n",
       "         +- Exchange hashpartitioning(year#3505, month#3506, 200), true, [id=#2137]\n",
       "            +- HashAggregate(keys=[year#3505, month#3506], functions=[partial_avg(teslaclose#3323) AS (sum#3530, count#3531L), partial_avg(amazonclose#3324) AS (sum#3534, count#3535L), partial_avg(googleclose#3325) AS (sum#3538, count#3539L)])\n",
       "               +- Project [year(cast(Date#3322 as date)) AS year#3505, month(cast(Date#3322 as date)) AS month#3506, teslaclose#3323, amazonclose#3324, googleclose#3325]\n",
       "                  +- FileScan parquet [Date#3322,teslaclose#3323,amazonclose#3324,googleclose#3325] Batched: true, DataFilters: [], Format: Parquet, Location: InMemoryFileIndex[dbfs:/joinstocks.parquet], PartitionFilters: [], PushedFilters: [], ReadSchema: struct&lt;Date:string,teslaclose:double,amazonclose:double,googleclose:double&gt;\n",
       "\n",
       "\n",
       "</div>"
      ]
     },
     "metadata": {
      "application/vnd.databricks.v1+output": {
       "addedWidgets": {},
       "arguments": {},
       "data": "<div class=\"ansiout\">== Physical Plan ==\nAdaptiveSparkPlan isFinalPlan=false\n+- Sort [year#3505 ASC NULLS FIRST, month#3506 ASC NULLS FIRST], true, 0\n   +- Exchange rangepartitioning(year#3505 ASC NULLS FIRST, month#3506 ASC NULLS FIRST, 200), true, [id=#2140]\n      +- HashAggregate(keys=[year#3505, month#3506], functions=[finalmerge_avg(merge sum#3530, count#3531L) AS avg(teslaclose#3323)#3517, finalmerge_avg(merge sum#3534, count#3535L) AS avg(amazonclose#3324)#3518, finalmerge_avg(merge sum#3538, count#3539L) AS avg(googleclose#3325)#3519])\n         +- Exchange hashpartitioning(year#3505, month#3506, 200), true, [id=#2137]\n            +- HashAggregate(keys=[year#3505, month#3506], functions=[partial_avg(teslaclose#3323) AS (sum#3530, count#3531L), partial_avg(amazonclose#3324) AS (sum#3534, count#3535L), partial_avg(googleclose#3325) AS (sum#3538, count#3539L)])\n               +- Project [year(cast(Date#3322 as date)) AS year#3505, month(cast(Date#3322 as date)) AS month#3506, teslaclose#3323, amazonclose#3324, googleclose#3325]\n                  +- FileScan parquet [Date#3322,teslaclose#3323,amazonclose#3324,googleclose#3325] Batched: true, DataFilters: [], Format: Parquet, Location: InMemoryFileIndex[dbfs:/joinstocks.parquet], PartitionFilters: [], PushedFilters: [], ReadSchema: struct&lt;Date:string,teslaclose:double,amazonclose:double,googleclose:double&gt;\n\n\n</div>",
       "datasetInfos": [],
       "removedWidgets": [],
       "type": "html"
      }
     },
     "output_type": "display_data"
    }
   ],
   "source": [
    "# Check physical plan\n",
    "final_df.select(year(\"Date\").alias(\"year\"), \n",
    "                 month(\"Date\").alias(\"month\"), \n",
    "                 \"teslaclose\", \"amazonclose\", \n",
    "                 \"googleclose\").groupby(\"year\", \n",
    "                                        \"month\").avg(\"teslaclose\", \n",
    "                                                     \"amazonclose\", \n",
    "                                                     \"googleclose\").sort(\"year\", \n",
    "                                                                         \"month\").explain()"
   ]
  },
  {
   "cell_type": "code",
   "execution_count": 0,
   "metadata": {
    "application/vnd.databricks.v1+cell": {
     "inputWidgets": {},
     "nuid": "722c6f60-ffff-48e8-bb6d-9784baacfad4",
     "showTitle": false,
     "title": ""
    }
   },
   "outputs": [
    {
     "data": {
      "text/html": [
       "<style scoped>\n",
       "  .ansiout {\n",
       "    display: block;\n",
       "    unicode-bidi: embed;\n",
       "    white-space: pre-wrap;\n",
       "    word-wrap: break-word;\n",
       "    word-break: break-all;\n",
       "    font-family: \"Source Code Pro\", \"Menlo\", monospace;;\n",
       "    font-size: 13px;\n",
       "    color: #555;\n",
       "    margin-left: 4px;\n",
       "    line-height: 19px;\n",
       "  }\n",
       "</style>\n",
       "<div class=\"ansiout\"></div>"
      ]
     },
     "metadata": {
      "application/vnd.databricks.v1+output": {
       "addedWidgets": {},
       "arguments": {},
       "data": "<div class=\"ansiout\"></div>",
       "datasetInfos": [],
       "removedWidgets": [],
       "type": "html"
      }
     },
     "output_type": "display_data"
    }
   ],
   "source": []
  },
  {
   "cell_type": "code",
   "execution_count": 0,
   "metadata": {
    "application/vnd.databricks.v1+cell": {
     "inputWidgets": {},
     "nuid": "845f54ee-7a09-4e07-861f-30ba8118aff9",
     "showTitle": false,
     "title": ""
    }
   },
   "outputs": [
    {
     "data": {
      "text/html": [
       "<style scoped>\n",
       "  .ansiout {\n",
       "    display: block;\n",
       "    unicode-bidi: embed;\n",
       "    white-space: pre-wrap;\n",
       "    word-wrap: break-word;\n",
       "    word-break: break-all;\n",
       "    font-family: \"Source Code Pro\", \"Menlo\", monospace;;\n",
       "    font-size: 13px;\n",
       "    color: #555;\n",
       "    margin-left: 4px;\n",
       "    line-height: 19px;\n",
       "  }\n",
       "</style>"
      ]
     },
     "metadata": {
      "application/vnd.databricks.v1+output": {
       "arguments": {},
       "data": "",
       "errorSummary": "",
       "type": "ipynbError"
      }
     },
     "output_type": "display_data"
    }
   ],
   "source": []
  }
 ],
 "metadata": {
  "application/vnd.databricks.v1+notebook": {
   "dashboards": [
    {
     "elements": [],
     "globalVars": {},
     "guid": "53ee0689-f08f-441d-a0e2-aa84c1c6f736",
     "layoutOption": {
      "grid": true,
      "stack": true
     },
     "nuid": "34eea079-1f80-45b9-8b86-35d2558c173c",
     "origId": 4172418881314538,
     "title": "Untitled",
     "version": "DashboardViewV1",
     "width": 1024
    }
   ],
   "language": "python",
   "notebookName": "pyspark Stock Prices Exploring",
   "notebookOrigID": 3492566276514637,
   "widgets": {}
  },
  "kernelspec": {
   "display_name": "Python 3",
   "language": "python",
   "name": "python3"
  },
  "language_info": {
   "codemirror_mode": {
    "name": "ipython",
    "version": 3
   },
   "file_extension": ".py",
   "mimetype": "text/x-python",
   "name": "python",
   "nbconvert_exporter": "python",
   "pygments_lexer": "ipython3",
   "version": "3.7.6"
  }
 },
 "nbformat": 4,
 "nbformat_minor": 1
}
